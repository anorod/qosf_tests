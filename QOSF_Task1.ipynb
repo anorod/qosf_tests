{
 "cells": [
  {
   "cell_type": "code",
   "execution_count": 3,
   "metadata": {},
   "outputs": [],
   "source": [
    "import numpy as np\n",
    "from qiskit import QuantumCircuit, ClassicalRegister, QuantumRegister\n",
    "from qiskit import Aer, execute, quantum_info"
   ]
  },
  {
   "cell_type": "code",
   "execution_count": 9,
   "metadata": {},
   "outputs": [],
   "source": [
    "# Unitary 4 Qubit gate with Rz's full entanglement\n",
    "def even_gate(theta, index):\n",
    "    name = \"Ue\"+str(index)+\"(\"+str(theta)+\")\"\n",
    "    u_even = QuantumCircuit(4, name=name)\n",
    "    u_even.rz(theta,0)\n",
    "    u_even.rz(theta,1)\n",
    "    u_even.rz(theta,2)\n",
    "    u_even.rz(theta,3)\n",
    "\n",
    "    u_even.cz(0,1)\n",
    "    u_even.cz(0,2)\n",
    "    u_even.cz(0,3)\n",
    "    u_even.cz(1,2)\n",
    "    u_even.cz(0,3)\n",
    "    u_even.cz(2,3)\n",
    "\n",
    "    return u_even\n",
    "\n",
    "# Unitary 4 Qubit gate with Rx's and no entanglement\n",
    "def odd_gate(theta, index):\n",
    "    name = \"Uo\"+str(index)+\"(\"+str(theta)+\")\"\n",
    "    u_odd = QuantumCircuit(4, name=name)\n",
    "    u_odd.rx(theta,0)\n",
    "    u_odd.rx(theta,1)\n",
    "    u_odd.rx(theta,2)\n",
    "    u_odd.rx(theta,3)\n",
    "\n",
    "    return u_odd"
   ]
  },
  {
   "cell_type": "code",
   "execution_count": 10,
   "metadata": {},
   "outputs": [
    {
     "data": {
      "text/html": [
       "<pre style=\"word-wrap: normal;white-space: pre;background: #fff0;line-height: 1.1;font-family: &quot;Courier New&quot;,Courier,monospace\">     ┌──────────────────────────┐┌──────────────────────────┐»\n",
       "q_0: ┤0                         ├┤0                         ├»\n",
       "     │                          ││                          │»\n",
       "q_1: ┤1                         ├┤1                         ├»\n",
       "     │  Ue0(0.8737271621362179) ││  Uo0(0.8737271621362179) │»\n",
       "q_2: ┤2                         ├┤2                         ├»\n",
       "     │                          ││                          │»\n",
       "q_3: ┤3                         ├┤3                         ├»\n",
       "     └──────────────────────────┘└──────────────────────────┘»\n",
       "«     ┌──────────────────────────┐┌──────────────────────────┐»\n",
       "«q_0: ┤0                         ├┤0                         ├»\n",
       "«     │                          ││                          │»\n",
       "«q_1: ┤1                         ├┤1                         ├»\n",
       "«     │  Ue1(0.3634669084648078) ││  Uo1(0.3634669084648078) │»\n",
       "«q_2: ┤2                         ├┤2                         ├»\n",
       "«     │                          ││                          │»\n",
       "«q_3: ┤3                         ├┤3                         ├»\n",
       "«     └──────────────────────────┘└──────────────────────────┘»\n",
       "«     ┌─────────────────────────┐┌─────────────────────────┐\n",
       "«q_0: ┤0                        ├┤0                        ├\n",
       "«     │                         ││                         │\n",
       "«q_1: ┤1                        ├┤1                        ├\n",
       "«     │  Ue2(5.287601560843217) ││  Uo2(5.287601560843217) │\n",
       "«q_2: ┤2                        ├┤2                        ├\n",
       "«     │                         ││                         │\n",
       "«q_3: ┤3                        ├┤3                        ├\n",
       "«     └─────────────────────────┘└─────────────────────────┘</pre>"
      ],
      "text/plain": [
       "     ┌──────────────────────────┐┌──────────────────────────┐»\n",
       "q_0: ┤0                         ├┤0                         ├»\n",
       "     │                          ││                          │»\n",
       "q_1: ┤1                         ├┤1                         ├»\n",
       "     │  Ue0(0.8737271621362179) ││  Uo0(0.8737271621362179) │»\n",
       "q_2: ┤2                         ├┤2                         ├»\n",
       "     │                          ││                          │»\n",
       "q_3: ┤3                         ├┤3                         ├»\n",
       "     └──────────────────────────┘└──────────────────────────┘»\n",
       "«     ┌──────────────────────────┐┌──────────────────────────┐»\n",
       "«q_0: ┤0                         ├┤0                         ├»\n",
       "«     │                          ││                          │»\n",
       "«q_1: ┤1                         ├┤1                         ├»\n",
       "«     │  Ue1(0.3634669084648078) ││  Uo1(0.3634669084648078) │»\n",
       "«q_2: ┤2                         ├┤2                         ├»\n",
       "«     │                          ││                          │»\n",
       "«q_3: ┤3                         ├┤3                         ├»\n",
       "«     └──────────────────────────┘└──────────────────────────┘»\n",
       "«     ┌─────────────────────────┐┌─────────────────────────┐\n",
       "«q_0: ┤0                        ├┤0                        ├\n",
       "«     │                         ││                         │\n",
       "«q_1: ┤1                        ├┤1                        ├\n",
       "«     │  Ue2(5.287601560843217) ││  Uo2(5.287601560843217) │\n",
       "«q_2: ┤2                        ├┤2                        ├\n",
       "«     │                         ││                         │\n",
       "«q_3: ┤3                        ├┤3                        ├\n",
       "«     └─────────────────────────┘└─────────────────────────┘"
      ]
     },
     "execution_count": 10,
     "metadata": {},
     "output_type": "execute_result"
    }
   ],
   "source": [
    "L = 3\n",
    "\n",
    "phi = quantum_info.random_statevector(16)\n",
    "\n",
    "circuit = QuantumCircuit(4)\n",
    "\n",
    "for i in range(L):\n",
    "    theta = np.random.uniform(0, 2*np.pi)\n",
    "    circuit.append(even_gate(theta, i), [0, 1, 2, 3])\n",
    "    circuit.append(odd_gate(theta, i), [0, 1, 2, 3])\n",
    "    \n",
    "circuit.draw()"
   ]
  },
  {
   "cell_type": "code",
   "execution_count": 29,
   "metadata": {},
   "outputs": [
    {
     "name": "stdout",
     "output_type": "stream",
     "text": [
      "[ 0.67916225-0.5060647j  -0.07766422+0.1016488j  -0.07766422+0.1016488j\n",
      "  0.06417263-0.16355447j  0.00267306+0.05143571j  0.11266673-0.09793946j\n",
      "  0.11266673-0.09793946j  0.2247239 +0.05571224j -0.18110621+0.13247225j\n",
      "  0.05445673+0.02481664j  0.05445673+0.02481664j -0.06745192+0.10243677j\n",
      "  0.07522207-0.15772319j  0.04838722+0.04549086j  0.04838722+0.04549086j\n",
      " -0.0299657 +0.07350253j]\n"
     ]
    }
   ],
   "source": [
    "simulator = Aer.get_backend(\"statevector_simulator\")\n",
    "\n",
    "job = execute(circuit, backend=simulator, shots=1024)\n",
    "result = job.result()\n",
    "phi_theta = result.get_statevector(circuit)\n",
    "print(phi_theta)"
   ]
  },
  {
   "cell_type": "code",
   "execution_count": 33,
   "metadata": {},
   "outputs": [
    {
     "data": {
      "text/plain": [
       "1.3229642780340438"
      ]
     },
     "execution_count": 33,
     "metadata": {},
     "output_type": "execute_result"
    }
   ],
   "source": [
    "np.linalg.norm(phi_theta - phi.data)"
   ]
  },
  {
   "cell_type": "code",
   "execution_count": null,
   "metadata": {},
   "outputs": [],
   "source": []
  }
 ],
 "metadata": {
  "kernelspec": {
   "display_name": "Python 3",
   "language": "python",
   "name": "python3"
  },
  "language_info": {
   "codemirror_mode": {
    "name": "ipython",
    "version": 3
   },
   "file_extension": ".py",
   "mimetype": "text/x-python",
   "name": "python",
   "nbconvert_exporter": "python",
   "pygments_lexer": "ipython3",
   "version": "3.7.6"
  }
 },
 "nbformat": 4,
 "nbformat_minor": 4
}
