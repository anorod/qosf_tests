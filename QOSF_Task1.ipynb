{
 "cells": [
  {
   "cell_type": "code",
   "execution_count": 1,
   "metadata": {},
   "outputs": [],
   "source": [
    "import numpy as np\n",
    "import matplotlib.pyplot as plt\n",
    "from qiskit import QuantumCircuit, ClassicalRegister, QuantumRegister\n",
    "from qiskit import Aer, execute, quantum_info"
   ]
  },
  {
   "cell_type": "markdown",
   "metadata": {},
   "source": [
    "# TODO\n",
    "* Ensure initial random vector is the same for all optimizers, just to be fair\n",
    "* Tests\n",
    "* Write docs and references\n",
    "* Optimize optimizer parameters, eta's, tolerances, etc.\n",
    "* Run it once with 1000 iterations, and go for lunch, and hope jupyter doesn't die\n",
    "* Benchmark execution time for each optimizer\n",
    "* Find parameters with dwave and compare, perhaps?\n",
    "* Add a noise model to the simulator and reevaluate results"
   ]
  },
  {
   "cell_type": "code",
   "execution_count": 2,
   "metadata": {},
   "outputs": [],
   "source": [
    "L = 10\n",
    "N_QUBITS = 4\n",
    "CURRENT_LAYER = 0\n",
    "PHI = quantum_info.random_statevector(2**N_QUBITS)\n",
    "ITERATIONS = 500 # Iterations for each step in each opimizer. Start with 50 to test. Then increase gradually and go for a (long) coffee\n",
    "\n",
    "backend = Aer.get_backend(\"qasm_simulator\")"
   ]
  },
  {
   "cell_type": "code",
   "execution_count": 3,
   "metadata": {},
   "outputs": [],
   "source": [
    "# Unitary 4 Qubit gate with Rz's full entanglement\n",
    "def even_gate(theta, index, qubits):\n",
    "    name = \"Ue\"+str(index)+\"(\"+str(theta)+\")\"\n",
    "    u_even = QuantumCircuit(4, name=name)\n",
    "    u_even.rz(theta,qubits)\n",
    "\n",
    "    for t in qubits:\n",
    "        i = t\n",
    "        for z in range(len(qubits)-t-1):\n",
    "            u_even.cz(t, i + 1)\n",
    "            i += 1\n",
    "\n",
    "    return u_even\n",
    "\n",
    "# Unitary 4 Qubit gate with Rx's and no entanglement\n",
    "def odd_gate(theta, index, qubits):\n",
    "    name = \"Uo\"+str(index)+\"(\"+str(theta)+\")\"\n",
    "    u_odd = QuantumCircuit(4, name=name)\n",
    "    u_odd.rx(theta, qubits)\n",
    "\n",
    "    return u_odd"
   ]
  },
  {
   "cell_type": "code",
   "execution_count": 4,
   "metadata": {},
   "outputs": [],
   "source": [
    "def calculate_random_theta():\n",
    "    return np.random.uniform(0, 2*np.pi)"
   ]
  },
  {
   "cell_type": "code",
   "execution_count": 5,
   "metadata": {},
   "outputs": [],
   "source": [
    "def get_random_thetas(layers):\n",
    "    thetas = []\n",
    "    for i in range(layers):\n",
    "        thetas.append(calculate_random_theta())\n",
    "    return thetas"
   ]
  },
  {
   "cell_type": "code",
   "execution_count": 6,
   "metadata": {},
   "outputs": [],
   "source": [
    "def get_variational_circuit(thetas):\n",
    "    layers = CURRENT_LAYER\n",
    "    n_qubits = N_QUBITS\n",
    "    \n",
    "    qubits = [i for i in range(n_qubits)]\n",
    "    circuit = QuantumCircuit(n_qubits)\n",
    "    theta = 0\n",
    "    for i in range(layers):\n",
    "        circuit.append(even_gate(thetas[theta], i, qubits), qubits)\n",
    "        theta += 1\n",
    "        circuit.append(odd_gate(thetas[theta], i, qubits), qubits)\n",
    "        theta += 1\n",
    "        \n",
    "    return circuit\n",
    "\n",
    "def run_circuit(thetas):\n",
    "    layers = CURRENT_LAYER\n",
    "    n_qubits = N_QUBITS\n",
    "    circuit = get_variational_circuit(thetas)\n",
    "    \n",
    "    simulator = Aer.get_backend(\"statevector_simulator\")\n",
    "    job = execute(circuit, backend=simulator, shots=1024)\n",
    "    result = job.result()\n",
    "    \n",
    "    return result.get_statevector(circuit)\n"
   ]
  },
  {
   "cell_type": "code",
   "execution_count": 7,
   "metadata": {},
   "outputs": [],
   "source": [
    "def objective_function(thetas):\n",
    "    psi_theta = run_circuit(thetas)\n",
    "    cost = np.linalg.norm(psi_theta - PHI.data)\n",
    "    return cost"
   ]
  },
  {
   "cell_type": "code",
   "execution_count": 8,
   "metadata": {},
   "outputs": [
    {
     "data": {
      "text/html": [
       "<pre style=\"word-wrap: normal;white-space: pre;background: #fff0;line-height: 1.1;font-family: &quot;Courier New&quot;,Courier,monospace\">     ┌─────────────────────────┐┌──────────────────────────┐»\n",
       "q_0: ┤0                        ├┤0                         ├»\n",
       "     │                         ││                          │»\n",
       "q_1: ┤1                        ├┤1                         ├»\n",
       "     │  Ue0(5.016709911058265) ││  Uo0(3.0226090439466398) │»\n",
       "q_2: ┤2                        ├┤2                         ├»\n",
       "     │                         ││                          │»\n",
       "q_3: ┤3                        ├┤3                         ├»\n",
       "     └─────────────────────────┘└──────────────────────────┘»\n",
       "«     ┌───────────────────────────┐┌─────────────────────────┐»\n",
       "«q_0: ┤0                          ├┤0                        ├»\n",
       "«     │                           ││                         │»\n",
       "«q_1: ┤1                          ├┤1                        ├»\n",
       "«     │  Ue1(0.22425561561825294) ││  Uo1(1.312344634500699) │»\n",
       "«q_2: ┤2                          ├┤2                        ├»\n",
       "«     │                           ││                         │»\n",
       "«q_3: ┤3                          ├┤3                        ├»\n",
       "«     └───────────────────────────┘└─────────────────────────┘»\n",
       "«     ┌──────────────────────────┐┌──────────────────────────┐\n",
       "«q_0: ┤0                         ├┤0                         ├\n",
       "«     │                          ││                          │\n",
       "«q_1: ┤1                         ├┤1                         ├\n",
       "«     │  Ue2(0.0659065099400642) ││  Uo2(2.9913919458213445) │\n",
       "«q_2: ┤2                         ├┤2                         ├\n",
       "«     │                          ││                          │\n",
       "«q_3: ┤3                         ├┤3                         ├\n",
       "«     └──────────────────────────┘└──────────────────────────┘</pre>"
      ],
      "text/plain": [
       "     ┌─────────────────────────┐┌──────────────────────────┐»\n",
       "q_0: ┤0                        ├┤0                         ├»\n",
       "     │                         ││                          │»\n",
       "q_1: ┤1                        ├┤1                         ├»\n",
       "     │  Ue0(5.016709911058265) ││  Uo0(3.0226090439466398) │»\n",
       "q_2: ┤2                        ├┤2                         ├»\n",
       "     │                         ││                          │»\n",
       "q_3: ┤3                        ├┤3                         ├»\n",
       "     └─────────────────────────┘└──────────────────────────┘»\n",
       "«     ┌───────────────────────────┐┌─────────────────────────┐»\n",
       "«q_0: ┤0                          ├┤0                        ├»\n",
       "«     │                           ││                         │»\n",
       "«q_1: ┤1                          ├┤1                        ├»\n",
       "«     │  Ue1(0.22425561561825294) ││  Uo1(1.312344634500699) │»\n",
       "«q_2: ┤2                          ├┤2                        ├»\n",
       "«     │                           ││                         │»\n",
       "«q_3: ┤3                          ├┤3                        ├»\n",
       "«     └───────────────────────────┘└─────────────────────────┘»\n",
       "«     ┌──────────────────────────┐┌──────────────────────────┐\n",
       "«q_0: ┤0                         ├┤0                         ├\n",
       "«     │                          ││                          │\n",
       "«q_1: ┤1                         ├┤1                         ├\n",
       "«     │  Ue2(0.0659065099400642) ││  Uo2(2.9913919458213445) │\n",
       "«q_2: ┤2                         ├┤2                         ├\n",
       "«     │                          ││                          │\n",
       "«q_3: ┤3                         ├┤3                         ├\n",
       "«     └──────────────────────────┘└──────────────────────────┘"
      ]
     },
     "execution_count": 8,
     "metadata": {},
     "output_type": "execute_result"
    }
   ],
   "source": [
    "# Test Circuit\n",
    "thetas = get_random_thetas(L*2)\n",
    "CURRENT_LAYER = 3\n",
    "circuit = get_variational_circuit(thetas)\n",
    "circuit.draw()"
   ]
  },
  {
   "cell_type": "code",
   "execution_count": 9,
   "metadata": {},
   "outputs": [
    {
     "name": "stdout",
     "output_type": "stream",
     "text": [
      "Layers:  1 | Distance:  1.3758850181047932\n",
      "Layers:  2 | Distance:  1.006895788497694\n",
      "Layers:  3 | Distance:  0.9745270127171529\n",
      "Layers:  4 | Distance:  0.9259578031474293\n",
      "Layers:  5 | Distance:  0.9646773376535633\n",
      "Layers:  6 | Distance:  0.9700290036073945\n",
      "Layers:  7 | Distance:  0.9872139047965558\n",
      "Layers:  8 | Distance:  0.9183712679532541\n",
      "Layers:  9 | Distance:  0.957704325786227\n",
      "Layers:  10 | Distance:  0.9809288242718787\n"
     ]
    }
   ],
   "source": [
    "random_results = []\n",
    "\n",
    "for layers in list(range(1, L+1)):\n",
    "    CURRENT_LAYER = layers\n",
    "    optimization_results = []    \n",
    "    \n",
    "    for i in range(ITERATIONS):\n",
    "        thetas = get_random_thetas(layers * 2)\n",
    "        psi_theta = run_circuit(thetas)\n",
    "        optimization_results.append(np.linalg.norm(psi_theta - PHI.data))\n",
    "    \n",
    "    distance = min(optimization_results)\n",
    "\n",
    "    print(\"Layers: \",layers, \"| Distance: \",distance)\n",
    "    random_results.append(distance)"
   ]
  },
  {
   "cell_type": "code",
   "execution_count": 10,
   "metadata": {},
   "outputs": [
    {
     "name": "stdout",
     "output_type": "stream",
     "text": [
      "Layers:  1 | Distance:  1.3758753308050742\n",
      "Layers:  2 | Distance:  1.0382326039539453\n",
      "Layers:  3 | Distance:  0.9243795024281486\n",
      "Layers:  4 | Distance:  0.8413247384979955\n",
      "Layers:  5 | Distance:  0.8231323461766341\n",
      "Layers:  6 | Distance:  0.8498189752483097\n",
      "Layers:  7 | Distance:  0.8235173228530875\n",
      "Layers:  8 | Distance:  0.8218774519943572\n",
      "Layers:  9 | Distance:  0.8555426858444557\n",
      "Layers:  10 | Distance:  0.8217986761464545\n"
     ]
    }
   ],
   "source": [
    "## Trial with COBYLA\n",
    "from qiskit.aqua.components.optimizers import COBYLA\n",
    "\n",
    "cobyla_results = []\n",
    "optimizer = COBYLA(maxiter=ITERATIONS, tol=0.0001, rhobeg=0.3)\n",
    "\n",
    "for layers in list(range(1, L+1)):\n",
    "    CURRENT_LAYER = layers\n",
    "    params = get_random_thetas(layers * 2)\n",
    "    bounds = []\n",
    "    for t in params: bounds.append((0, 2*np.pi))\n",
    "\n",
    "    ret = optimizer.optimize(num_vars=layers*2, \n",
    "                             objective_function=objective_function, \n",
    "                             initial_point=params,\n",
    "                             variable_bounds=bounds)\n",
    "    psi_theta = run_circuit(ret[0])\n",
    "    print(\"Layers: \",layers,\"| Distance: \",ret[1])\n",
    "    cobyla_results.append(ret[1])"
   ]
  },
  {
   "cell_type": "code",
   "execution_count": 11,
   "metadata": {},
   "outputs": [
    {
     "name": "stdout",
     "output_type": "stream",
     "text": [
      "Layers:  1 | Distance:  1.4231580302566664\n",
      "Layers:  2 | Distance:  1.0788989637703847\n",
      "Layers:  3 | Distance:  0.9255331971351928\n",
      "Layers:  4 | Distance:  0.8627326701196187\n",
      "Layers:  5 | Distance:  0.8416976184530083\n",
      "Layers:  6 | Distance:  0.9535336224586435\n",
      "Layers:  7 | Distance:  1.0768795749715951\n",
      "Layers:  8 | Distance:  1.1956447164320487\n",
      "Layers:  9 | Distance:  1.5891538665084854\n",
      "Layers:  10 | Distance:  1.3913352766502476\n"
     ]
    }
   ],
   "source": [
    "## Trial with SPSA\n",
    "from qiskit.aqua.components.optimizers import SPSA\n",
    "\n",
    "spsa_results = []\n",
    "optimizer = SPSA(maxiter=ITERATIONS, c0=0.03, c1=0.01)\n",
    "\n",
    "for layers in list(range(1, L+1)):\n",
    "    CURRENT_LAYER = layers\n",
    "    params = get_random_thetas(layers * 2)\n",
    "    bounds = []\n",
    "    for t in params: bounds.append((0, 2*np.pi))\n",
    "        \n",
    "    ret = optimizer.optimize(num_vars=layers*2, \n",
    "                             objective_function=objective_function, \n",
    "                             initial_point=params,\n",
    "                             variable_bounds=bounds)\n",
    "    psi_theta = run_circuit(ret[0])\n",
    "    print(\"Layers: \",layers, \"| Distance: \",ret[1])\n",
    "    spsa_results.append(ret[1])"
   ]
  },
  {
   "cell_type": "code",
   "execution_count": 12,
   "metadata": {},
   "outputs": [
    {
     "name": "stdout",
     "output_type": "stream",
     "text": [
      "Layers:  1 | Distance:  1.4097073539416205\n",
      "Layers:  2 | Distance:  1.3862892287523292\n",
      "Layers:  3 | Distance:  1.3578304972184505\n",
      "Layers:  4 | Distance:  1.121511662376757\n",
      "Layers:  5 | Distance:  1.3766803158958072\n",
      "Layers:  6 | Distance:  1.1766234205304074\n",
      "Layers:  7 | Distance:  1.3584128391509347\n",
      "Layers:  8 | Distance:  1.0145114659740402\n",
      "Layers:  9 | Distance:  1.3041246269462172\n",
      "Layers:  10 | Distance:  1.1812482027504259\n"
     ]
    }
   ],
   "source": [
    "## Trial with AQGD\n",
    "from qiskit.aqua.components.optimizers import AQGD\n",
    "\n",
    "aqgd_results = []\n",
    "optimizer = AQGD(maxiter=ITERATIONS, tol=0.0001, eta=0.01)\n",
    "\n",
    "for layers in list(range(1, L+1)):\n",
    "    CURRENT_LAYER = layers\n",
    "    params = get_random_thetas(layers * 2)\n",
    "    bounds = []\n",
    "    for t in params: bounds.append((0, 2*np.pi))\n",
    "        \n",
    "    ret = optimizer.optimize(num_vars=layers*2, \n",
    "                             objective_function=objective_function, \n",
    "                             initial_point=params,\n",
    "                             variable_bounds=bounds)\n",
    "    psi_theta = run_circuit(ret[0])\n",
    "    print(\"Layers: \",layers, \"| Distance: \",ret[1])\n",
    "    aqgd_results.append(ret[1])"
   ]
  },
  {
   "cell_type": "code",
   "execution_count": 13,
   "metadata": {},
   "outputs": [
    {
     "data": {
      "text/plain": [
       "Text(0, 0.5, 'Distance')"
      ]
     },
     "execution_count": 13,
     "metadata": {},
     "output_type": "execute_result"
    },
    {
     "data": {
      "image/png": "[encoded data removed]",
      "text/plain": [
       "<Figure size 432x288 with 1 Axes>"
      ]
     },
     "metadata": {
      "needs_background": "light"
     },
     "output_type": "display_data"
    }
   ],
   "source": [
    "# Evaluating all optimizers\n",
    "\n",
    "x_axis = list(range(1, L+1))\n",
    "plt.xticks(x_axis)\n",
    "plt.plot(x_axis, cobyla_results, label=\"COBYLA\")\n",
    "plt.plot(x_axis, spsa_results, label=\"SPSA\")\n",
    "plt.plot(x_axis, aqgd_results, label=\"AQGD\")\n",
    "plt.plot(x_axis, random_results, label=\"Random Thetas\")\n",
    "plt.title('Optimizer comparison for VQE')\n",
    "plt.legend()\n",
    "plt.xlabel('Layers')\n",
    "plt.ylabel('Distance')"
   ]
  },
  {
   "cell_type": "code",
   "execution_count": null,
   "metadata": {},
   "outputs": [],
   "source": []
  }
 ],
 "metadata": {
  "kernelspec": {
   "display_name": "Python 3",
   "language": "python",
   "name": "python3"
  },
  "language_info": {
   "codemirror_mode": {
    "name": "ipython",
    "version": 3
   },
   "file_extension": ".py",
   "mimetype": "text/x-python",
   "name": "python",
   "nbconvert_exporter": "python",
   "pygments_lexer": "ipython3",
   "version": "3.7.6"
  }
 },
 "nbformat": 4,
 "nbformat_minor": 4
}
