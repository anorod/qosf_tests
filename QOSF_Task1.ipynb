{
 "cells": [
  {
   "cell_type": "markdown",
   "metadata": {},
   "source": [
    "# QOSF - Task 1\n",
    "\n",
    "Implement, on a quantum simulator of your choice, the following 4 qubits state |()>:\n",
    "Where the number of layers, denoted with L, has to be considered as a parameter. We call ¨Layer¨ the combination of 1 yellow + 1 green block, so, for example, U1 + U2 is a layer. The odd/even variational blocks are given by:\n",
    "\n",
    "\n",
    "Even blocks\n",
    "\n",
    "\n",
    "Odd blocks\n",
    "\n",
    "\n",
    "The angles i, nare variational parameters, lying in the interval (0, 2), initialized at random. Double qubit gates are CZ gates.\n",
    "\n",
    "Report with a plot, as a function of the number of layers, L, the minimum distance\n",
    "\n",
    "$\\varepsilon = \\min_{\\theta} || |\\psi(\\theta)> - |\\phi> ||$\n",
    "\n",
    "Where |$\\phi$> is a randomly generated vector on 4 qubits and the norm || |v> ||, of a state |v>, simply denotes the sum of the squares of the components of |v>. The right set of parameters i,n can be found via any method of choice (e.g. grid-search or gradient descent)\n",
    "\n",
    "\n",
    "---\n",
    "\n",
    "### Bonus question:\n",
    "Try using other gates for the parametrized gates and see what happens.\n"
   ]
  },
  {
   "cell_type": "markdown",
   "metadata": {},
   "source": [
    "# TODO\n",
    "- [x] Ensure initial random vector is the same for all optimizers, just to be fair\n",
    "- [ ] Tests\n",
    "- [-] Write docs and references\n",
    "- [-] Optimize optimizer parameters, eta's, tolerances, etc.\n",
    "- [x] Run it once with 1000 iterations, and go for lunch, and hope jupyter doesn't die\n",
    "- [x] Benchmark execution time for each optimizer\n",
    "- [ ] Compare with a solution on the DWave annealer\n",
    "- [x] Add a noise model to the simulator and reevaluate results\n",
    "- [x] Bonus question"
   ]
  },
  {
   "cell_type": "markdown",
   "metadata": {},
   "source": [
    "## Environment setup"
   ]
  },
  {
   "cell_type": "code",
   "execution_count": 1,
   "metadata": {},
   "outputs": [
    {
     "data": {
      "text/plain": [
       "{'qiskit-terra': '0.15.1',\n",
       " 'qiskit-aer': '0.6.1',\n",
       " 'qiskit-ignis': '0.4.0',\n",
       " 'qiskit-ibmq-provider': '0.8.0',\n",
       " 'qiskit-aqua': '0.7.5',\n",
       " 'qiskit': '0.20.0'}"
      ]
     },
     "execution_count": 1,
     "metadata": {},
     "output_type": "execute_result"
    }
   ],
   "source": [
    "#pip3 install qiskit, numpy, matplotlib\n",
    "\n",
    "import qiskit\n",
    "import numpy as np\n",
    "import time\n",
    "import matplotlib.pyplot as plt\n",
    "from qiskit import IBMQ, Aer, QuantumCircuit, execute, quantum_info\n",
    "from qiskit.providers.aer.noise import NoiseModel\n",
    "qiskit.__qiskit_version__"
   ]
  },
  {
   "cell_type": "markdown",
   "metadata": {},
   "source": [
    "## Approach\n",
    "We will use the defined \"odd\" and \"even\" gates in steps defined by \"Layers\". With Rx gates for the odd blocks, and Rz's and full entanglement for the even blocks.\n",
    "\n",
    "All gates in each block have the same theta rotation, therefore the variational parameters will be 2*Layers. (One for the odd and one for the even blocks).\n",
    "\n",
    "We will first create the circuit in a way that we can call it individually from a cost function. We will first use a random parameter algorithm to have a benchmark, an compare with COBYLA, SPSA and AQBD. In further iterations we can try optimizing the hyperparameters of each optimizer and add other algorithms.\n",
    "\n",
    "## Initial constants\n",
    "\n",
    "#### Stuff you can change\n",
    "L = Layers, or iterations of odd / even unitary gates\n",
    "\n",
    "N_QUBITS = Number of Qubits for the unitary gates\n",
    "\n",
    "ITERATIONS =  Number of iterations for each optimizer. The more, the merrier, and the hotter your CPU\n",
    "\n",
    "\n",
    "Block to configure the rotations and entanglers. Possible values are RX, RZ and RY for rotations and CX and CZ for entanglers\n",
    "\n",
    "ODD_GATES_ROTATION = \"RX\"\n",
    "\n",
    "EVEN_GATES_ROTATION = \"RZ\"\n",
    "\n",
    "EVEN_GATES_ENTANGLER = \"CZ\"\n",
    "\n",
    "\n",
    "\n",
    "#### Better not change this\n",
    "CURRENT_LAYER = Constant to update the layers for each iteration\n",
    "\n",
    "PHI = Target vector, initialited randomly for comparison\n",
    "\n",
    "THETAS = Random initial Thetas. Array for all possible values depending on the number of layers\n",
    "\n",
    "CALCULATiON_TIMES = Just a list to store the execution times for each optimizer to compare later on\n"
   ]
  },
  {
   "cell_type": "code",
   "execution_count": 2,
   "metadata": {},
   "outputs": [],
   "source": [
    "def calculate_random_theta():\n",
    "    return np.random.uniform(0, 2*np.pi)\n",
    "\n",
    "def get_random_thetas(layers):\n",
    "    thetas = []\n",
    "    for i in range(layers):\n",
    "        thetas.append(calculate_random_theta())\n",
    "    return thetas"
   ]
  },
  {
   "cell_type": "code",
   "execution_count": 3,
   "metadata": {},
   "outputs": [],
   "source": [
    "L = 10\n",
    "N_QUBITS = 4\n",
    "ITERATIONS = 1000 # Iterations for each step in each opimizer. Start with 50 to test. Then increase gradually and go for a (long) coffee\n",
    "\n",
    "ODD_GATES_ROTATION = \"RX\"\n",
    "EVEN_GATES_ROTATION = \"RZ\"\n",
    "EVEN_GATES_ENTANGLER = \"CZ\"\n",
    "\n",
    "CURRENT_LAYER = 0\n",
    "PHI = quantum_info.random_statevector(2**N_QUBITS)\n",
    "# Calculate ALL Thetas at the beginning so we can use the same random initial vector for all optimizers\n",
    "for i in range(L):\n",
    "    THETAS = get_random_thetas(L * 2)\n",
    "\n",
    "CALCULATION_TIMES = {}\n",
    "backend = Aer.get_backend(\"qasm_simulator\")"
   ]
  },
  {
   "cell_type": "markdown",
   "metadata": {},
   "source": [
    "### Preparing the Circuit\n",
    "Adding functions to create unitary gates, calculate random theta angles for each layers and finally create and run the variational circuit.\n",
    "\n",
    "We use the statevetor simulator to compare with the initial random phi. And create the objective (cost) function to minimize using the norm between psi(theta) and phi."
   ]
  },
  {
   "cell_type": "code",
   "execution_count": 4,
   "metadata": {},
   "outputs": [],
   "source": [
    "# Unitary 4 Qubit gate with Rz's full entanglement\n",
    "def even_gate(theta, index, qubits):\n",
    "    name = \"Ue\"+str(index)+\"(\"+str(theta)+\")\"\n",
    "    u_even = QuantumCircuit(len(qubits), name=name)\n",
    "    \n",
    "    if(EVEN_GATES_ROTATION == \"RZ\"):\n",
    "        u_even.rz(theta,qubits)\n",
    "    elif(EVEN_GATES_ROTATION == \"RY\"):\n",
    "        u_even.ry(theta,qubits)\n",
    "    else:\n",
    "        u_even.rx(theta,qubits)\n",
    "\n",
    "    for t in qubits:\n",
    "        i = t\n",
    "        for z in range(len(qubits)-t-1):\n",
    "            if(EVEN_GATES_ENTANGLER == \"cz\"):\n",
    "                u_even.cz(t, i + 1)\n",
    "            elif(EVEN_GATES_ROTATION == \"cy\"):\n",
    "                u_even.cy(t, i + 1)\n",
    "            else:\n",
    "                u_even.cx(t, i + 1)\n",
    "            i += 1\n",
    "\n",
    "    return u_even\n",
    "\n",
    "# Unitary 4 Qubit gate with Rx's and no entanglement\n",
    "def odd_gate(theta, index, qubits):\n",
    "    name = \"Uo\"+str(index)+\"(\"+str(theta)+\")\"\n",
    "    u_odd = QuantumCircuit(len(qubits), name=name)\n",
    "    if(ODD_GATES_ROTATION == \"RZ\"):\n",
    "        u_odd.rz(theta,qubits)\n",
    "    elif(ODD_GATES_ROTATION == \"RY\"):\n",
    "        u_odd.ry(theta,qubits)\n",
    "    else:\n",
    "        u_odd.rx(theta,qubits)\n",
    "\n",
    "    return u_odd"
   ]
  },
  {
   "cell_type": "code",
   "execution_count": 5,
   "metadata": {},
   "outputs": [],
   "source": [
    "def get_variational_circuit(thetas):\n",
    "    layers = CURRENT_LAYER\n",
    "    n_qubits = N_QUBITS\n",
    "    \n",
    "    qubits = [i for i in range(n_qubits)]\n",
    "    circuit = QuantumCircuit(n_qubits)\n",
    "    theta = 0\n",
    "    for i in range(layers):\n",
    "        circuit.append(even_gate(thetas[theta], i, qubits), qubits)\n",
    "        theta += 1\n",
    "        circuit.append(odd_gate(thetas[theta], i, qubits), qubits)\n",
    "        theta += 1\n",
    "        \n",
    "    return circuit\n",
    "\n",
    "def run_circuit(thetas):\n",
    "    layers = CURRENT_LAYER\n",
    "    n_qubits = N_QUBITS\n",
    "    circuit = get_variational_circuit(thetas)\n",
    "    \n",
    "    simulator = Aer.get_backend(\"statevector_simulator\")\n",
    "    job = execute(circuit, backend=simulator, shots=1024, noise_model=noise_model)\n",
    "    result = job.result()\n",
    "    \n",
    "    return result.get_statevector(circuit)\n",
    "\n",
    "def objective_function(thetas):\n",
    "    psi_theta = run_circuit(thetas)\n",
    "    cost = np.linalg.norm(psi_theta - PHI.data)\n",
    "    return cost"
   ]
  },
  {
   "cell_type": "code",
   "execution_count": 6,
   "metadata": {},
   "outputs": [
    {
     "data": {
      "text/html": [
       "<pre style=\"word-wrap: normal;white-space: pre;background: #fff0;line-height: 1.1;font-family: &quot;Courier New&quot;,Courier,monospace\">     ┌─────────────────────────┐┌─────────────────────────┐»\n",
       "q_0: ┤0                        ├┤0                        ├»\n",
       "     │                         ││                         │»\n",
       "q_1: ┤1                        ├┤1                        ├»\n",
       "     │  Ue0(2.741235937884255) ││  Uo0(4.516867214972235) │»\n",
       "q_2: ┤2                        ├┤2                        ├»\n",
       "     │                         ││                         │»\n",
       "q_3: ┤3                        ├┤3                        ├»\n",
       "     └─────────────────────────┘└─────────────────────────┘»\n",
       "«     ┌──────────────────────────┐┌──────────────────────────┐\n",
       "«q_0: ┤0                         ├┤0                         ├\n",
       "«     │                          ││                          │\n",
       "«q_1: ┤1                         ├┤1                         ├\n",
       "«     │  Ue1(2.4032462990226713) ││  Uo1(2.0509390033614703) │\n",
       "«q_2: ┤2                         ├┤2                         ├\n",
       "«     │                          ││                          │\n",
       "«q_3: ┤3                         ├┤3                         ├\n",
       "«     └──────────────────────────┘└──────────────────────────┘</pre>"
      ],
      "text/plain": [
       "     ┌─────────────────────────┐┌─────────────────────────┐»\n",
       "q_0: ┤0                        ├┤0                        ├»\n",
       "     │                         ││                         │»\n",
       "q_1: ┤1                        ├┤1                        ├»\n",
       "     │  Ue0(2.741235937884255) ││  Uo0(4.516867214972235) │»\n",
       "q_2: ┤2                        ├┤2                        ├»\n",
       "     │                         ││                         │»\n",
       "q_3: ┤3                        ├┤3                        ├»\n",
       "     └─────────────────────────┘└─────────────────────────┘»\n",
       "«     ┌──────────────────────────┐┌──────────────────────────┐\n",
       "«q_0: ┤0                         ├┤0                         ├\n",
       "«     │                          ││                          │\n",
       "«q_1: ┤1                         ├┤1                         ├\n",
       "«     │  Ue1(2.4032462990226713) ││  Uo1(2.0509390033614703) │\n",
       "«q_2: ┤2                         ├┤2                         ├\n",
       "«     │                          ││                          │\n",
       "«q_3: ┤3                         ├┤3                         ├\n",
       "«     └──────────────────────────┘└──────────────────────────┘"
      ]
     },
     "execution_count": 6,
     "metadata": {},
     "output_type": "execute_result"
    }
   ],
   "source": [
    "# Test the Circuit to make sure everything is ok, and thetas are properly applied\n",
    "CURRENT_LAYER = 2\n",
    "circuit = get_variational_circuit(THETAS)\n",
    "circuit.draw()"
   ]
  },
  {
   "cell_type": "markdown",
   "metadata": {},
   "source": [
    "## Adding Noise\n",
    "VQE Circuits tend to be useful in noisy quantum computers in the NISQ era. To simulate that fact we will add the noise from the actual computer we would use in real life: IBMQ_Santiago, with 5 Qubits and a Quantum Volume of 32.\n",
    "\n",
    "We could add individual noise levels for the gates used, but in order to simplify the circuit we will just use the real ones from IBM"
   ]
  },
  {
   "cell_type": "code",
   "execution_count": 7,
   "metadata": {},
   "outputs": [
    {
     "name": "stderr",
     "output_type": "stream",
     "text": [
      "/Users/sergiogago/opt/anaconda3/lib/python3.7/site-packages/qiskit/providers/ibmq/ibmqfactory.py:192: UserWarning: Timestamps in IBMQ backend properties, jobs, and job results are all now in local time instead of UTC.\n",
      "  warnings.warn('Timestamps in IBMQ backend properties, jobs, and job results '\n"
     ]
    }
   ],
   "source": [
    "# Get Noise levels from Melbourne Q Computer\n",
    "provider = IBMQ.load_account()\n",
    "backend = provider.get_backend('ibmq_santiago')\n",
    "noise_model = NoiseModel.from_backend(backend)"
   ]
  },
  {
   "cell_type": "markdown",
   "metadata": {},
   "source": [
    "### Getting results\n",
    "\n",
    "1. Random Thetas (MonteCarlo sampling)\n",
    "2. COBYLA\n",
    "3. SPSA\n",
    "4. AQGD\n",
    "\n",
    "Results are stored in a specific array so we can plot and copmare them later"
   ]
  },
  {
   "cell_type": "code",
   "execution_count": 8,
   "metadata": {},
   "outputs": [
    {
     "name": "stdout",
     "output_type": "stream",
     "text": [
      "Layers:  1 | Distance:  1.375276984362461\n",
      "Layers:  2 | Distance:  1.6737997706046437\n",
      "Layers:  3 | Distance:  1.2777977718634363\n",
      "Layers:  4 | Distance:  1.170915969658177\n",
      "Layers:  5 | Distance:  1.4476428002070458\n",
      "Layers:  6 | Distance:  1.4585092714432506\n",
      "Layers:  7 | Distance:  1.3875974243351437\n",
      "Layers:  8 | Distance:  1.489130098763892\n",
      "Layers:  9 | Distance:  1.491672537667814\n",
      "Layers:  10 | Distance:  1.4395974009804966\n"
     ]
    }
   ],
   "source": [
    "# Random Thetas / MonteCarlo\n",
    "\n",
    "random_results = []\n",
    "start_time = time.time()\n",
    "\n",
    "for layers in list(range(1, L+1)):\n",
    "    CURRENT_LAYER = layers\n",
    "    optimization_results = []    \n",
    "    \n",
    "    for i in range(ITERATIONS):\n",
    "        psi_theta = run_circuit(THETAS)\n",
    "        optimization_results.append(np.linalg.norm(psi_theta - PHI.data))\n",
    "    \n",
    "    distance = min(optimization_results)\n",
    "\n",
    "    print(\"Layers: \",layers, \"| Distance: \",distance)\n",
    "    random_results.append(distance)\n",
    "\n",
    "end_time = time.time()\n",
    "CALCULATION_TIMES[\"random\"] = end_time - start_time"
   ]
  },
  {
   "cell_type": "code",
   "execution_count": 9,
   "metadata": {},
   "outputs": [
    {
     "name": "stdout",
     "output_type": "stream",
     "text": [
      "Layers:  1 | Distance:  1.3636517905803702\n",
      "Layers:  2 | Distance:  1.033181969626942\n",
      "Layers:  3 | Distance:  0.7546190582957643\n",
      "Layers:  4 | Distance:  0.8715715798204696\n",
      "Layers:  5 | Distance:  0.7535470706225432\n",
      "Layers:  6 | Distance:  0.5264056613134136\n",
      "Layers:  7 | Distance:  0.7072317789311134\n",
      "Layers:  8 | Distance:  0.4254644347556199\n",
      "Layers:  9 | Distance:  0.5323182620425903\n",
      "Layers:  10 | Distance:  0.5472795880610477\n"
     ]
    }
   ],
   "source": [
    "## COBYLA Optimizer\n",
    "from qiskit.aqua.components.optimizers import COBYLA\n",
    "\n",
    "cobyla_results = []\n",
    "start_time = time.time()\n",
    "optimizer = COBYLA(maxiter=ITERATIONS, tol=0.001, rhobeg=2)\n",
    "\n",
    "for layers in list(range(1, L+1)):\n",
    "    CURRENT_LAYER = layers\n",
    "    params = THETAS[:CURRENT_LAYER*2]\n",
    "    bounds = []\n",
    "    for t in params: bounds.append((0, 2*np.pi))\n",
    "\n",
    "    ret = optimizer.optimize(num_vars=layers*2, \n",
    "                             objective_function=objective_function, \n",
    "                             initial_point=params,\n",
    "                             variable_bounds=bounds)\n",
    "    psi_theta = run_circuit(ret[0])\n",
    "    print(\"Layers: \",layers,\"| Distance: \",ret[1])\n",
    "    cobyla_results.append(ret[1])\n",
    "    \n",
    "end_time = time.time()\n",
    "CALCULATION_TIMES[\"COBYLA\"] = end_time - start_time"
   ]
  },
  {
   "cell_type": "code",
   "execution_count": 10,
   "metadata": {},
   "outputs": [
    {
     "name": "stdout",
     "output_type": "stream",
     "text": [
      "Layers:  1 | Distance:  1.3637004064084601\n",
      "Layers:  2 | Distance:  1.0331717154696982\n",
      "Layers:  3 | Distance:  1.333374214106052\n",
      "Layers:  4 | Distance:  1.2705940094089074\n",
      "Layers:  5 | Distance:  1.3089592903941727\n",
      "Layers:  6 | Distance:  1.333013971521534\n",
      "Layers:  7 | Distance:  1.1759172332336663\n",
      "Layers:  8 | Distance:  1.5904378075630061\n",
      "Layers:  9 | Distance:  1.4799355933712888\n",
      "Layers:  10 | Distance:  1.6774774934836836\n"
     ]
    }
   ],
   "source": [
    "## SPSA Optimizer\n",
    "from qiskit.aqua.components.optimizers import SPSA\n",
    "\n",
    "c0 = 0.01 #4 # 0.03\n",
    "c1 = 0.01 # 0.01\n",
    "c2 = 0.3\n",
    "c3 = 0.05\n",
    "# default: c0=0.6283185307179586, c1=0.1, c2=0.602, c3=0.101,\n",
    "\n",
    "spsa_results = []\n",
    "start_time = time.time()\n",
    "optimizer = SPSA(maxiter=ITERATIONS, c0=c0, c1=c1, c2=c2, c3=c3)\n",
    "\n",
    "for layers in list(range(1, L+1)):\n",
    "    CURRENT_LAYER = layers\n",
    "    params = THETAS[:CURRENT_LAYER*2]\n",
    "    bounds = []\n",
    "    for t in params: bounds.append((0, 2*np.pi))\n",
    "        \n",
    "    ret = optimizer.optimize(num_vars=layers*2, \n",
    "                             objective_function=objective_function, \n",
    "                             initial_point=params,\n",
    "                             variable_bounds=bounds)\n",
    "    psi_theta = run_circuit(ret[0])\n",
    "    print(\"Layers: \",layers, \"| Distance: \",ret[1])\n",
    "    spsa_results.append(ret[1])\n",
    "    \n",
    "end_time = time.time()\n",
    "CALCULATION_TIMES[\"SPSA\"] = end_time - start_time"
   ]
  },
  {
   "cell_type": "code",
   "execution_count": 11,
   "metadata": {},
   "outputs": [
    {
     "name": "stdout",
     "output_type": "stream",
     "text": [
      "Layers:  1 | Distance:  1.365355429367098\n",
      "Layers:  2 | Distance:  1.6737997706046437\n",
      "Layers:  3 | Distance:  1.1487524736685892\n",
      "Layers:  4 | Distance:  1.1707096606247056\n",
      "Layers:  5 | Distance:  1.3050016902026942\n",
      "Layers:  6 | Distance:  0.9346321353415407\n",
      "Layers:  7 | Distance:  1.1153035900962642\n",
      "Layers:  8 | Distance:  0.9266599131019301\n",
      "Layers:  9 | Distance:  0.8934102731311903\n",
      "Layers:  10 | Distance:  1.3425880734588485\n"
     ]
    }
   ],
   "source": [
    "## AQGD Optimizer\n",
    "from qiskit.aqua.components.optimizers import AQGD\n",
    "\n",
    "aqgd_results = []\n",
    "start_time = time.time()\n",
    "optimizer = AQGD(maxiter=ITERATIONS, tol=0.001, eta=0.5, momentum=0.5)\n",
    "\n",
    "for layers in list(range(1, L+1)):\n",
    "    CURRENT_LAYER = layers\n",
    "    params = THETAS[:CURRENT_LAYER*2]\n",
    "    bounds = []\n",
    "    for t in params: bounds.append((0, 2*np.pi))\n",
    "        \n",
    "    ret = optimizer.optimize(num_vars=layers*2, \n",
    "                             objective_function=objective_function, \n",
    "                             initial_point=params,\n",
    "                             variable_bounds=bounds)\n",
    "    psi_theta = run_circuit(ret[0])\n",
    "    print(\"Layers: \",layers, \"| Distance: \",ret[1])\n",
    "    aqgd_results.append(ret[1])\n",
    "    \n",
    "end_time = time.time()\n",
    "CALCULATION_TIMES[\"AQGD\"] = end_time - start_time"
   ]
  },
  {
   "cell_type": "code",
   "execution_count": 12,
   "metadata": {},
   "outputs": [
    {
     "data": {
      "image/png": "[encoded data removed]",
      "text/plain": [
       "<Figure size 432x288 with 1 Axes>"
      ]
     },
     "metadata": {
      "needs_background": "light"
     },
     "output_type": "display_data"
    }
   ],
   "source": [
    "# Evaluating all optimizers\n",
    "\n",
    "x_axis = list(range(1, L+1))\n",
    "plt.xticks(x_axis)\n",
    "plt.plot(x_axis, cobyla_results, label=\"COBYLA\")\n",
    "plt.plot(x_axis, spsa_results, label=\"SPSA\")\n",
    "plt.plot(x_axis, aqgd_results, label=\"AQGD\")\n",
    "plt.plot(x_axis, random_results, label=\"Random Thetas\")\n",
    "plt.title('Optimizer comparison for VQE. - '+ str(ITERATIONS) +\" iterations\")\n",
    "plt.legend()\n",
    "plt.xlabel('Layers')\n",
    "plt.ylabel('Distance')\n",
    "plt.savefig('Optimizer_Benchmark_'+ str(time.time()) + '_Iterations_'+str(ITERATIONS)+'_'+ODD_GATES_ROTATION+EVEN_GATES_ROTATION+EVEN_GATES_ENTANGLER+'.png')\n"
   ]
  },
  {
   "cell_type": "markdown",
   "metadata": {},
   "source": [
    "## Quick time performance / Benchmark calculation\n",
    "Because real time is also important!"
   ]
  },
  {
   "cell_type": "code",
   "execution_count": 13,
   "metadata": {},
   "outputs": [
    {
     "data": {
      "image/png": "[encoded data removed]",
      "text/plain": [
       "<Figure size 432x288 with 1 Axes>"
      ]
     },
     "metadata": {
      "needs_background": "light"
     },
     "output_type": "display_data"
    }
   ],
   "source": [
    "# Plot execution timmes performance\n",
    "keys = CALCULATION_TIMES.keys()\n",
    "values = CALCULATION_TIMES.values()\n",
    "\n",
    "plt.xlabel('Optimizer')\n",
    "plt.ylabel('Execution time (s)')\n",
    "plt.title('Execution time comparison - '+ str(ITERATIONS) +\" iterations\")\n",
    "plt.bar(keys, values)\n",
    "plt.savefig('Execution_time_comparison_'+ str(time.time()) + '_Iterations_'+str(ITERATIONS)+'_'+ODD_GATES_ROTATION+EVEN_GATES_ROTATION+EVEN_GATES_ENTANGLER+'.png')"
   ]
  },
  {
   "cell_type": "markdown",
   "metadata": {},
   "source": [
    "## Bonus question\n",
    "Try using other gates for the parametrized gates and see what happens.\n",
    "\n",
    "Luckily we have parametrized the variational circuit, so we can nicely compare the different options. We will focus on COBYLA only since it provided the best results.\n",
    "\n",
    "Here we iterate and create permutations on both the odd and even blocks and store them in a dictionary. Feel free to change the permutations and run them several times, and then add them into the plot\n",
    "\n",
    "As expected, the difference in the space exploration happens when we change the rotation on the even gates and odd gates, between RZ's, RX's and RY's. But the entangler blocks making no difference to the final approximation."
   ]
  },
  {
   "cell_type": "code",
   "execution_count": 14,
   "metadata": {},
   "outputs": [],
   "source": [
    "cobyla_variational_results = {}"
   ]
  },
  {
   "cell_type": "code",
   "execution_count": 15,
   "metadata": {},
   "outputs": [
    {
     "name": "stdout",
     "output_type": "stream",
     "text": [
      "Layers:  1 | Distance:  1.253729612604163\n",
      "Layers:  2 | Distance:  1.0203597735356693\n",
      "Layers:  3 | Distance:  1.011567465941206\n",
      "Layers:  4 | Distance:  0.8463526644281458\n",
      "Layers:  5 | Distance:  0.7854534970003645\n",
      "Layers:  6 | Distance:  0.7188519009111748\n",
      "Layers:  7 | Distance:  0.5347779352753678\n",
      "Layers:  8 | Distance:  0.6495069496498322\n",
      "Layers:  9 | Distance:  0.5618325948138995\n",
      "Layers:  10 | Distance:  0.5109184159956845\n"
     ]
    }
   ],
   "source": [
    "## Trial with COBYLA\n",
    "ODD_GATES_ROTATION = \"RY\"\n",
    "EVEN_GATES_ROTATION = \"RZ\"\n",
    "EVEN_GATES_ENTANGLER = \"CX\"\n",
    "\n",
    "cobyla_variational_results[\"COBYLA_RY_RZ_CX\"] = []\n",
    "optimizer = COBYLA(maxiter=ITERATIONS, tol=0.0001, rhobeg=0.3)\n",
    "\n",
    "for layers in list(range(1, L+1)):\n",
    "    CURRENT_LAYER = layers\n",
    "    params = THETAS[:CURRENT_LAYER*2]\n",
    "    bounds = []\n",
    "    for t in params: bounds.append((0, 2*np.pi))\n",
    "\n",
    "    ret = optimizer.optimize(num_vars=layers*2, \n",
    "                             objective_function=objective_function, \n",
    "                             initial_point=params,\n",
    "                             variable_bounds=bounds)\n",
    "    psi_theta = run_circuit(ret[0])\n",
    "    print(\"Layers: \",layers,\"| Distance: \",ret[1])\n",
    "    cobyla_variational_results[\"COBYLA_RY_RZ_CX\"].append(ret[1])"
   ]
  },
  {
   "cell_type": "code",
   "execution_count": 16,
   "metadata": {},
   "outputs": [
    {
     "name": "stdout",
     "output_type": "stream",
     "text": [
      "Layers:  1 | Distance:  1.199455893786476\n",
      "Layers:  2 | Distance:  1.1991534158658006\n",
      "Layers:  3 | Distance:  1.169588863486714\n",
      "Layers:  4 | Distance:  1.1670471603239436\n",
      "Layers:  5 | Distance:  1.0989511272759427\n",
      "Layers:  6 | Distance:  1.1045186537385219\n",
      "Layers:  7 | Distance:  1.0902609896041608\n",
      "Layers:  8 | Distance:  1.044179634507154\n",
      "Layers:  9 | Distance:  1.0584156817321526\n",
      "Layers:  10 | Distance:  1.022526951143255\n"
     ]
    }
   ],
   "source": [
    "## Trial with COBYLA\n",
    "ODD_GATES_ROTATION = \"RY\"\n",
    "EVEN_GATES_ROTATION = \"RY\"\n",
    "EVEN_GATES_ENTANGLER = \"CX\"\n",
    "\n",
    "cobyla_variational_results[\"COBYLA_RY_RY_CX\"] = []\n",
    "\n",
    "optimizer = COBYLA(maxiter=ITERATIONS, tol=0.0001, rhobeg=0.3)\n",
    "\n",
    "for layers in list(range(1, L+1)):\n",
    "    CURRENT_LAYER = layers\n",
    "    params = THETAS[:CURRENT_LAYER*2]\n",
    "    bounds = []\n",
    "    for t in params: bounds.append((0, 2*np.pi))\n",
    "\n",
    "    ret = optimizer.optimize(num_vars=layers*2, \n",
    "                             objective_function=objective_function, \n",
    "                             initial_point=params,\n",
    "                             variable_bounds=bounds)\n",
    "    psi_theta = run_circuit(ret[0])\n",
    "    print(\"Layers: \",layers,\"| Distance: \",ret[1])\n",
    "    cobyla_variational_results[\"COBYLA_RY_RY_CX\"].append(ret[1])\n",
    "    "
   ]
  },
  {
   "cell_type": "code",
   "execution_count": 17,
   "metadata": {},
   "outputs": [
    {
     "name": "stdout",
     "output_type": "stream",
     "text": [
      "Layers:  1 | Distance:  1.1083130347383872\n",
      "Layers:  2 | Distance:  0.9102716167095452\n",
      "Layers:  3 | Distance:  0.7982714875366811\n",
      "Layers:  4 | Distance:  0.7853279357648868\n",
      "Layers:  5 | Distance:  0.83147350891529\n",
      "Layers:  6 | Distance:  0.7539915216625879\n",
      "Layers:  7 | Distance:  0.7666986537695754\n",
      "Layers:  8 | Distance:  0.6249844423678086\n",
      "Layers:  9 | Distance:  0.6527716165522797\n",
      "Layers:  10 | Distance:  0.7140936151683431\n"
     ]
    }
   ],
   "source": [
    "## Trial with COBYLA\n",
    "ODD_GATES_ROTATION = \"RY\"\n",
    "EVEN_GATES_ROTATION = \"RX\"\n",
    "EVEN_GATES_ENTANGLER = \"CX\"\n",
    "\n",
    "cobyla_variational_results[\"COBYLA_RY_RX_CX\"] = []\n",
    "\n",
    "optimizer = COBYLA(maxiter=ITERATIONS, tol=0.0001, rhobeg=0.3)\n",
    "\n",
    "for layers in list(range(1, L+1)):\n",
    "    CURRENT_LAYER = layers\n",
    "    params = THETAS[:CURRENT_LAYER*2]\n",
    "    bounds = []\n",
    "    for t in params: bounds.append((0, 2*np.pi))\n",
    "\n",
    "    ret = optimizer.optimize(num_vars=layers*2, \n",
    "                             objective_function=objective_function, \n",
    "                             initial_point=params,\n",
    "                             variable_bounds=bounds)\n",
    "    psi_theta = run_circuit(ret[0])\n",
    "    print(\"Layers: \",layers,\"| Distance: \",ret[1])\n",
    "    cobyla_variational_results[\"COBYLA_RY_RX_CX\"].append(ret[1])\n",
    "    "
   ]
  },
  {
   "cell_type": "code",
   "execution_count": 18,
   "metadata": {},
   "outputs": [
    {
     "name": "stdout",
     "output_type": "stream",
     "text": [
      "COBYLA_RY_RZ_CX\n",
      "[1.253729612604163, 1.0203597735356693, 1.011567465941206, 0.8463526644281458, 0.7854534970003645, 0.7188519009111748, 0.5347779352753678, 0.6495069496498322, 0.5618325948138995, 0.5109184159956845]\n",
      "COBYLA_RY_RY_CX\n",
      "[1.199455893786476, 1.1991534158658006, 1.169588863486714, 1.1670471603239436, 1.0989511272759427, 1.1045186537385219, 1.0902609896041608, 1.044179634507154, 1.0584156817321526, 1.022526951143255]\n",
      "COBYLA_RY_RX_CX\n",
      "[1.1083130347383872, 0.9102716167095452, 0.7982714875366811, 0.7853279357648868, 0.83147350891529, 0.7539915216625879, 0.7666986537695754, 0.6249844423678086, 0.6527716165522797, 0.7140936151683431]\n"
     ]
    }
   ],
   "source": [
    "for i in cobyla_variational_results:\n",
    "    print(i)\n",
    "    print(cobyla_variational_results[i])"
   ]
  },
  {
   "cell_type": "code",
   "execution_count": 19,
   "metadata": {},
   "outputs": [
    {
     "data": {
      "image/png": "[encoded data removed]",
      "text/plain": [
       "<Figure size 432x288 with 1 Axes>"
      ]
     },
     "metadata": {
      "needs_background": "light"
     },
     "output_type": "display_data"
    }
   ],
   "source": [
    "# Evaluating all optimizers\n",
    "\n",
    "x_axis = list(range(1, L+1))\n",
    "plt.xticks(x_axis)\n",
    "for combination in cobyla_variational_results:\n",
    "    plt.plot(x_axis, cobyla_variational_results[combination], label=combination)\n",
    "plt.title('Optimizer comparison for VQE. - '+ str(ITERATIONS) +\" iterations\")\n",
    "plt.legend()\n",
    "plt.xlabel('Layers')\n",
    "plt.ylabel('Distance')\n",
    "plt.savefig('COBYLA_Benchmark_Gates_'+ str(time.time()) + '_Iterations_'+str(ITERATIONS)+'.png')\n"
   ]
  },
  {
   "cell_type": "markdown",
   "metadata": {},
   "source": [
    "## Conclusions\n",
    "\n",
    "After launching the experiments several times and with different iterations and hyperparameters we conclude that COBYLA provides the closest approximation to the initial random vector.\n",
    "\n",
    "The chosen Ansatz could be potentially optimized, as well as fine tunning the parameters. In some cases we are overshooting and producing wrong results just because of the choice of said hyperparameters. Further exploration can be done to use different optimizers and evaluate their performance.\n",
    "\n",
    "In general, we see that for most optimizers there is a threshold in the number of layers (3-4) after which more gates don't bring additional marginal benefit on the approximation. Results differ depending on the original vector and the initial random parameters but this threshold seems to hold for around 1000 iterations each.\n",
    "\n",
    "It is interesting to note from the variation of rotations, that the best combination for the COBYLA is when we apply RY and RZ rotations and CX entangler. One potential reason could be that with the three rotations we can explore the hamiltonian space completely."
   ]
  },
  {
   "cell_type": "code",
   "execution_count": null,
   "metadata": {},
   "outputs": [],
   "source": []
  }
 ],
 "metadata": {
  "kernelspec": {
   "display_name": "Python 3",
   "language": "python",
   "name": "python3"
  },
  "language_info": {
   "codemirror_mode": {
    "name": "ipython",
    "version": 3
   },
   "file_extension": ".py",
   "mimetype": "text/x-python",
   "name": "python",
   "nbconvert_exporter": "python",
   "pygments_lexer": "ipython3",
   "version": "3.7.6"
  }
 },
 "nbformat": 4,
 "nbformat_minor": 4
}
