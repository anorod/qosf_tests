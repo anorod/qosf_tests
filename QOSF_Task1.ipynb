{
 "cells": [
  {
   "cell_type": "code",
   "execution_count": 1,
   "metadata": {},
   "outputs": [],
   "source": [
    "import numpy as np\n",
    "import matplotlib.pyplot as plt\n",
    "from qiskit import QuantumCircuit, ClassicalRegister, QuantumRegister\n",
    "from qiskit import Aer, execute, quantum_info"
   ]
  },
  {
   "cell_type": "markdown",
   "metadata": {},
   "source": [
    "# TODO\n",
    "* Ensure initial random vector is the same for all optimizers, just to be fair\n",
    "* Tests\n",
    "* Write docs and references\n",
    "* Optimize optimizer parameters, eta's, tolerances, etc.\n",
    "* Run it once with 1000 iterations, and go for lunch, and hope jupyter doesn't die\n",
    "* Benchmark execution time for each optimizer\n",
    "* Find parameters with dwave and compare, perhaps?\n",
    "* Add a noise model to the simulator and reevaluate results"
   ]
  },
  {
   "cell_type": "code",
   "execution_count": 2,
   "metadata": {},
   "outputs": [],
   "source": [
    "L = 10\n",
    "N_QUBITS = 4\n",
    "CURRENT_LAYER = 0\n",
    "PHI = quantum_info.random_statevector(2**N_QUBITS)\n",
    "ITERATIONS = 100 # Iterations for each step in each opimizer. Start with 50 to test. Then increase gradually and go for a (long) coffee\n",
    "\n",
    "backend = Aer.get_backend(\"qasm_simulator\")"
   ]
  },
  {
   "cell_type": "code",
   "execution_count": 3,
   "metadata": {},
   "outputs": [],
   "source": [
    "# Unitary 4 Qubit gate with Rz's full entanglement\n",
    "def even_gate(theta, index, qubits):\n",
    "    name = \"Ue\"+str(index)+\"(\"+str(theta)+\")\"\n",
    "    u_even = QuantumCircuit(4, name=name)\n",
    "    u_even.rz(theta,qubits)\n",
    "\n",
    "    for t in qubits:\n",
    "        i = t\n",
    "        for z in range(len(qubits)-t-1):\n",
    "            u_even.cz(t, i + 1)\n",
    "            i += 1\n",
    "\n",
    "    return u_even\n",
    "\n",
    "# Unitary 4 Qubit gate with Rx's and no entanglement\n",
    "def odd_gate(theta, index, qubits):\n",
    "    name = \"Uo\"+str(index)+\"(\"+str(theta)+\")\"\n",
    "    u_odd = QuantumCircuit(4, name=name)\n",
    "    u_odd.rx(theta, qubits)\n",
    "\n",
    "    return u_odd"
   ]
  },
  {
   "cell_type": "code",
   "execution_count": 4,
   "metadata": {},
   "outputs": [],
   "source": [
    "def calculate_random_theta():\n",
    "    return np.random.uniform(0, 2*np.pi)"
   ]
  },
  {
   "cell_type": "code",
   "execution_count": 5,
   "metadata": {},
   "outputs": [],
   "source": [
    "def get_random_thetas(layers):\n",
    "    thetas = []\n",
    "    for i in range(layers):\n",
    "        thetas.append(calculate_random_theta())\n",
    "    return thetas"
   ]
  },
  {
   "cell_type": "code",
   "execution_count": 6,
   "metadata": {},
   "outputs": [],
   "source": [
    "def get_variational_circuit(thetas):\n",
    "    layers = CURRENT_LAYER\n",
    "    n_qubits = N_QUBITS\n",
    "    \n",
    "    qubits = [i for i in range(n_qubits)]\n",
    "    circuit = QuantumCircuit(n_qubits)\n",
    "    theta = 0\n",
    "    for i in range(layers):\n",
    "        circuit.append(even_gate(thetas[theta], i, qubits), qubits)\n",
    "        theta += 1\n",
    "        circuit.append(odd_gate(thetas[theta], i, qubits), qubits)\n",
    "        theta += 1\n",
    "        \n",
    "    return circuit\n",
    "\n",
    "def run_circuit(thetas):\n",
    "    layers = CURRENT_LAYER\n",
    "    n_qubits = N_QUBITS\n",
    "    circuit = get_variational_circuit(thetas)\n",
    "    \n",
    "    simulator = Aer.get_backend(\"statevector_simulator\")\n",
    "    job = execute(circuit, backend=simulator, shots=1024)\n",
    "    result = job.result()\n",
    "    \n",
    "    return result.get_statevector(circuit)\n"
   ]
  },
  {
   "cell_type": "code",
   "execution_count": 7,
   "metadata": {},
   "outputs": [],
   "source": [
    "def objective_function(thetas):\n",
    "    psi_theta = run_circuit(thetas)\n",
    "    cost = np.linalg.norm(psi_theta - PHI.data)\n",
    "    return cost"
   ]
  },
  {
   "cell_type": "code",
   "execution_count": 8,
   "metadata": {},
   "outputs": [
    {
     "data": {
      "text/html": [
       "<pre style=\"word-wrap: normal;white-space: pre;background: #fff0;line-height: 1.1;font-family: &quot;Courier New&quot;,Courier,monospace\">     ┌────────────────────────┐┌─────────────────────────┐»\n",
       "q_0: ┤0                       ├┤0                        ├»\n",
       "     │                        ││                         │»\n",
       "q_1: ┤1                       ├┤1                        ├»\n",
       "     │  Ue0(4.73366734262213) ││  Uo0(5.508857905216674) │»\n",
       "q_2: ┤2                       ├┤2                        ├»\n",
       "     │                        ││                         │»\n",
       "q_3: ┤3                       ├┤3                        ├»\n",
       "     └────────────────────────┘└─────────────────────────┘»\n",
       "«     ┌──────────────────────────┐┌──────────────────────────┐»\n",
       "«q_0: ┤0                         ├┤0                         ├»\n",
       "«     │                          ││                          │»\n",
       "«q_1: ┤1                         ├┤1                         ├»\n",
       "«     │  Ue1(1.9501610946458077) ││  Uo1(0.3876145748966889) │»\n",
       "«q_2: ┤2                         ├┤2                         ├»\n",
       "«     │                          ││                          │»\n",
       "«q_3: ┤3                         ├┤3                         ├»\n",
       "«     └──────────────────────────┘└──────────────────────────┘»\n",
       "«     ┌──────────────────────────┐┌──────────────────────────┐\n",
       "«q_0: ┤0                         ├┤0                         ├\n",
       "«     │                          ││                          │\n",
       "«q_1: ┤1                         ├┤1                         ├\n",
       "«     │  Ue2(1.7960588931498565) ││  Uo2(4.6197440006599075) │\n",
       "«q_2: ┤2                         ├┤2                         ├\n",
       "«     │                          ││                          │\n",
       "«q_3: ┤3                         ├┤3                         ├\n",
       "«     └──────────────────────────┘└──────────────────────────┘</pre>"
      ],
      "text/plain": [
       "     ┌────────────────────────┐┌─────────────────────────┐»\n",
       "q_0: ┤0                       ├┤0                        ├»\n",
       "     │                        ││                         │»\n",
       "q_1: ┤1                       ├┤1                        ├»\n",
       "     │  Ue0(4.73366734262213) ││  Uo0(5.508857905216674) │»\n",
       "q_2: ┤2                       ├┤2                        ├»\n",
       "     │                        ││                         │»\n",
       "q_3: ┤3                       ├┤3                        ├»\n",
       "     └────────────────────────┘└─────────────────────────┘»\n",
       "«     ┌──────────────────────────┐┌──────────────────────────┐»\n",
       "«q_0: ┤0                         ├┤0                         ├»\n",
       "«     │                          ││                          │»\n",
       "«q_1: ┤1                         ├┤1                         ├»\n",
       "«     │  Ue1(1.9501610946458077) ││  Uo1(0.3876145748966889) │»\n",
       "«q_2: ┤2                         ├┤2                         ├»\n",
       "«     │                          ││                          │»\n",
       "«q_3: ┤3                         ├┤3                         ├»\n",
       "«     └──────────────────────────┘└──────────────────────────┘»\n",
       "«     ┌──────────────────────────┐┌──────────────────────────┐\n",
       "«q_0: ┤0                         ├┤0                         ├\n",
       "«     │                          ││                          │\n",
       "«q_1: ┤1                         ├┤1                         ├\n",
       "«     │  Ue2(1.7960588931498565) ││  Uo2(4.6197440006599075) │\n",
       "«q_2: ┤2                         ├┤2                         ├\n",
       "«     │                          ││                          │\n",
       "«q_3: ┤3                         ├┤3                         ├\n",
       "«     └──────────────────────────┘└──────────────────────────┘"
      ]
     },
     "execution_count": 8,
     "metadata": {},
     "output_type": "execute_result"
    }
   ],
   "source": [
    "# Test Circuit\n",
    "thetas = get_random_thetas(L*2)\n",
    "CURRENT_LAYER = 3\n",
    "circuit = get_variational_circuit(thetas)\n",
    "circuit.draw()"
   ]
  },
  {
   "cell_type": "code",
   "execution_count": 9,
   "metadata": {},
   "outputs": [
    {
     "name": "stdout",
     "output_type": "stream",
     "text": [
      "Layer:  1 | Distance:  1.1828208370652735\n",
      "Layer:  2 | Distance:  1.0341537818106317\n",
      "Layer:  3 | Distance:  1.14747166108551\n",
      "Layer:  4 | Distance:  1.072194186256165\n",
      "Layer:  5 | Distance:  1.007292462431876\n",
      "Layer:  6 | Distance:  1.1299987490037748\n",
      "Layer:  7 | Distance:  1.0651139827901885\n",
      "Layer:  8 | Distance:  1.0666270222354108\n",
      "Layer:  9 | Distance:  1.144093159113435\n",
      "Layer:  10 | Distance:  1.0729608462327271\n"
     ]
    }
   ],
   "source": [
    "random_results = []\n",
    "\n",
    "for layers in list(range(1, L+1)):\n",
    "    CURRENT_LAYER = layers\n",
    "    optimization_results = []    \n",
    "    \n",
    "    for i in range(ITERATIONS):\n",
    "        thetas = get_random_thetas(layers * 2)\n",
    "        psi_theta = run_circuit(thetas)\n",
    "        optimization_results.append(np.linalg.norm(psi_theta - PHI.data))\n",
    "    \n",
    "    distance = min(optimization_results)\n",
    "\n",
    "    print(\"Layers: \",layers, \"| Distance: \",distance)\n",
    "    random_results.append(distance)"
   ]
  },
  {
   "cell_type": "code",
   "execution_count": 10,
   "metadata": {},
   "outputs": [
    {
     "name": "stdout",
     "output_type": "stream",
     "text": [
      "Layer:  1 | Distance:  1.1828159539517846\n",
      "Layer:  2 | Distance:  0.9714782811942295\n",
      "Layer:  3 | Distance:  0.9621956716563813\n",
      "Layer:  4 | Distance:  1.005780079078617\n",
      "Layer:  5 | Distance:  0.9868988583701669\n",
      "Layer:  6 | Distance:  0.952991538082414\n",
      "Layer:  7 | Distance:  0.9245738696911062\n",
      "Layer:  8 | Distance:  0.9716895697046967\n",
      "Layer:  9 | Distance:  1.0106979643808656\n",
      "Layer:  10 | Distance:  0.9206973181378116\n"
     ]
    }
   ],
   "source": [
    "## Trial with COBYLA\n",
    "from qiskit.aqua.components.optimizers import COBYLA\n",
    "\n",
    "cobyla_results = []\n",
    "optimizer = COBYLA(maxiter=ITERATIONS, tol=0.0001, rhobeg=0.3)\n",
    "\n",
    "for layers in list(range(1, L+1)):\n",
    "    CURRENT_LAYER = layers\n",
    "    params = get_random_thetas(layers * 2)\n",
    "    bounds = []\n",
    "    for t in params: bounds.append((0, 2*np.pi))\n",
    "\n",
    "    ret = optimizer.optimize(num_vars=layers*2, \n",
    "                             objective_function=objective_function, \n",
    "                             initial_point=params,\n",
    "                             variable_bounds=bounds)\n",
    "    psi_theta = run_circuit(ret[0])\n",
    "    print(\"Layers: \",layers,\"| Distance: \",ret[1])\n",
    "    cobyla_results.append(ret[1])"
   ]
  },
  {
   "cell_type": "code",
   "execution_count": 12,
   "metadata": {},
   "outputs": [
    {
     "name": "stdout",
     "output_type": "stream",
     "text": [
      "Layer:  1 | Distance:  1.3297084569225137\n",
      "Layer:  2 | Distance:  1.2198557558798833\n",
      "Layer:  3 | Distance:  1.0457045308256425\n",
      "Layer:  4 | Distance:  0.9293058475430477\n",
      "Layer:  5 | Distance:  1.3008947135556803\n",
      "Layer:  6 | Distance:  1.4788826048815855\n",
      "Layer:  7 | Distance:  1.4626639282133242\n",
      "Layer:  8 | Distance:  1.4716090519651948\n",
      "Layer:  9 | Distance:  1.1137059630017239\n",
      "Layer:  10 | Distance:  1.6215125205890302\n"
     ]
    }
   ],
   "source": [
    "## Trial with SPSA\n",
    "from qiskit.aqua.components.optimizers import SPSA\n",
    "\n",
    "spsa_results = []\n",
    "optimizer = SPSA(maxiter=ITERATIONS, c0=0.03, c1=0.01)\n",
    "\n",
    "for layers in list(range(1, L+1)):\n",
    "    CURRENT_LAYER = layers\n",
    "    params = get_random_thetas(layers * 2)\n",
    "    bounds = []\n",
    "    for t in params: bounds.append((0, 2*np.pi))\n",
    "        \n",
    "    ret = optimizer.optimize(num_vars=layers*2, \n",
    "                             objective_function=objective_function, \n",
    "                             initial_point=params,\n",
    "                             variable_bounds=bounds)\n",
    "    psi_theta = run_circuit(ret[0])\n",
    "    print(\"Layers: \",layers, \"| Distance: \",ret[1])\n",
    "    spsa_results.append(ret[1])"
   ]
  },
  {
   "cell_type": "code",
   "execution_count": null,
   "metadata": {},
   "outputs": [
    {
     "name": "stdout",
     "output_type": "stream",
     "text": [
      "Layer:  1 | Distance:  1.4289045732471282\n",
      "Layer:  2 | Distance:  1.2167656903819957\n",
      "Layer:  3 | Distance:  1.2310673243000565\n",
      "Layer:  4 | Distance:  1.3558845657045704\n",
      "Layer:  5 | Distance:  1.4177809107365003\n",
      "Layer:  6 | Distance:  1.3441781971912092\n",
      "Layer:  7 | Distance:  1.2579303592430437\n",
      "Layer:  8 | Distance:  1.5831021553065103\n",
      "Layer:  9 | Distance:  1.3299912555135858\n"
     ]
    }
   ],
   "source": [
    "## Trial with AQGD\n",
    "from qiskit.aqua.components.optimizers import AQGD\n",
    "\n",
    "aqgd_results = []\n",
    "optimizer = AQGD(maxiter=ITERATIONS, tol=0.0001, eta=0.01)\n",
    "\n",
    "for layers in list(range(1, L+1)):\n",
    "    CURRENT_LAYER = layers\n",
    "    params = get_random_thetas(layers * 2)\n",
    "    bounds = []\n",
    "    for t in params: bounds.append((0, 2*np.pi))\n",
    "        \n",
    "    ret = optimizer.optimize(num_vars=layers*2, \n",
    "                             objective_function=objective_function, \n",
    "                             initial_point=params,\n",
    "                             variable_bounds=bounds)\n",
    "    psi_theta = run_circuit(ret[0])\n",
    "    print(\"Layers: \",layers, \"| Distance: \",ret[1])\n",
    "    aqgd_results.append(ret[1])"
   ]
  },
  {
   "cell_type": "code",
   "execution_count": null,
   "metadata": {},
   "outputs": [],
   "source": [
    "# Evaluating all optimizers\n",
    "\n",
    "x_axis = list(range(1, L+1))\n",
    "plt.xticks(x_axis)\n",
    "plt.plot(x_axis, cobyla_results, label=\"COBYLA\")\n",
    "plt.plot(x_axis, spsa_results, label=\"SPSA\")\n",
    "plt.plot(x_axis, aqgd_results, label=\"AQGD\")\n",
    "plt.plot(x_axis, random_results, label=\"Random Thetas\")\n",
    "plt.title('Cost')\n",
    "plt.legend()\n",
    "plt.xlabel('Layers')\n",
    "plt.ylabel('Distance')"
   ]
  }
 ],
 "metadata": {
  "kernelspec": {
   "display_name": "Python 3",
   "language": "python",
   "name": "python3"
  },
  "language_info": {
   "codemirror_mode": {
    "name": "ipython",
    "version": 3
   },
   "file_extension": ".py",
   "mimetype": "text/x-python",
   "name": "python",
   "nbconvert_exporter": "python",
   "pygments_lexer": "ipython3",
   "version": "3.7.6"
  }
 },
 "nbformat": 4,
 "nbformat_minor": 4
}
