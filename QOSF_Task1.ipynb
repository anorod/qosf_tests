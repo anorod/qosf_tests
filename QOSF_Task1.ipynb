{
 "cells": [
  {
   "cell_type": "markdown",
   "metadata": {},
   "source": [
    "# QOSF - Task 1\n",
    "\n",
    "Implement, on a quantum simulator of your choice, the following 4 qubits state |()>:\n",
    "Where the number of layers, denoted with L, has to be considered as a parameter. We call ¨Layer¨ the combination of 1 yellow + 1 green block, so, for example, U1 + U2 is a layer. The odd/even variational blocks are given by:\n",
    "\n",
    "\n",
    "Even blocks\n",
    "\n",
    "\n",
    "Odd blocks\n",
    "\n",
    "\n",
    "The angles i, nare variational parameters, lying in the interval (0, 2), initialized at random. Double qubit gates are CZ gates.\n",
    "\n",
    "Report with a plot, as a function of the number of layers, L, the minimum distance\n",
    "\n",
    "$\\varepsilon = \\min_{\\theta} || |\\psi(\\theta)> - |\\phi> ||$\n",
    "\n",
    "Where |$\\phi$> is a randomly generated vector on 4 qubits and the norm || |v> ||, of a state |v>, simply denotes the sum of the squares of the components of |v>. The right set of parameters i,n can be found via any method of choice (e.g. grid-search or gradient descent)\n",
    "\n",
    "\n",
    "---\n",
    "\n",
    "### Bonus question:\n",
    "Try using other gates for the parametrized gates and see what happens.\n"
   ]
  },
  {
   "cell_type": "markdown",
   "metadata": {},
   "source": [
    "# TODO\n",
    "- [x] Ensure initial random vector is the same for all optimizers, just to be fair\n",
    "- [ ] Tests\n",
    "- [ ] Write docs and references\n",
    "- [ ] Optimize optimizer parameters, eta's, tolerances, etc.\n",
    "- [ ] Run it once with 1000 iterations, and go for lunch, and hope jupyter doesn't die\n",
    "- [x] Benchmark execution time for each optimizer\n",
    "- [ ] Find parameters with dwave and compare, perhaps?\n",
    "- [ ] Add a noise model to the simulator and reevaluate results\n",
    "- [ ] Bonus question"
   ]
  },
  {
   "cell_type": "markdown",
   "metadata": {},
   "source": [
    "## Environment setup"
   ]
  },
  {
   "cell_type": "code",
   "execution_count": 1,
   "metadata": {},
   "outputs": [
    {
     "data": {
      "text/plain": [
       "{'qiskit-terra': '0.15.1',\n",
       " 'qiskit-aer': '0.6.1',\n",
       " 'qiskit-ignis': '0.4.0',\n",
       " 'qiskit-ibmq-provider': '0.8.0',\n",
       " 'qiskit-aqua': '0.7.5',\n",
       " 'qiskit': '0.20.0'}"
      ]
     },
     "execution_count": 1,
     "metadata": {},
     "output_type": "execute_result"
    }
   ],
   "source": [
    "#pip3 install qiskit, numpy, matplotlib\n",
    "\n",
    "import qiskit\n",
    "import numpy as np\n",
    "import time\n",
    "import matplotlib.pyplot as plt\n",
    "from qiskit import QuantumCircuit\n",
    "from qiskit import Aer, execute, quantum_info\n",
    "qiskit.__qiskit_version__"
   ]
  },
  {
   "cell_type": "markdown",
   "metadata": {},
   "source": [
    "## Approach\n",
    "We will use the defined \"odd\" and \"even\" gates in steps defined by \"Layers\". With Rx gates for the odd blocks, and Rz's and full entanglement for the even blocks.\n",
    "\n",
    "All gates in each block have the same theta rotation, therefore the variational parameters will be 2*Layers. (One for the odd and one for the even blocks).\n",
    "\n",
    "We will first create the circuit in a way that we can call it individually from a cost function. We will first use a random parameter algorithm to have a benchmark, an compare with COBYLA, SPSA and AQBD. In further iterations we can try optimizing the hyperparameters of each optimizer and add other algorithms.\n",
    "\n",
    "## Initial constants\n",
    "\n",
    "#### Stuff you can change\n",
    "L = Layers, or iterations of odd / even unitary gates\n",
    "\n",
    "N_QUBITS = Number of Qubits for the unitary gates\n",
    "\n",
    "ITERATIONS =  Number of iterations for each optimizer. The more, the merrier, and the hotter your CPU\n",
    "\n",
    "\n",
    "#### Better not change this\n",
    "CURRENT_LAYER = Constant to update the layers for each iteration\n",
    "\n",
    "PHI = Target vector, initialited randomly for comparison\n",
    "\n",
    "THETAS = Random initial Thetas. Array for all possible values depending on the number of layers\n",
    "\n",
    "CALCULATiON_TIMES = Just a list to store the execution times for each optimizer to compare later on\n"
   ]
  },
  {
   "cell_type": "code",
   "execution_count": 2,
   "metadata": {},
   "outputs": [],
   "source": [
    "def calculate_random_theta():\n",
    "    return np.random.uniform(0, 2*np.pi)\n",
    "\n",
    "def get_random_thetas(layers):\n",
    "    thetas = []\n",
    "    for i in range(layers):\n",
    "        thetas.append(calculate_random_theta())\n",
    "    return thetas"
   ]
  },
  {
   "cell_type": "code",
   "execution_count": 3,
   "metadata": {},
   "outputs": [],
   "source": [
    "L = 5\n",
    "N_QUBITS = 4\n",
    "ITERATIONS = 10 # Iterations for each step in each opimizer. Start with 50 to test. Then increase gradually and go for a (long) coffee\n",
    "\n",
    "ODD_GATES_ROTATION = \"RX\"\n",
    "EVEN_GATES_ROTATION = \"RZ\"\n",
    "EVEN_GATES_ENTANGLER = \"CZ\"\n",
    "\n",
    "CURRENT_LAYER = 0\n",
    "PHI = quantum_info.random_statevector(2**N_QUBITS)\n",
    "# Calculate ALL Thetas at the beginning so we can use the same random initial vector for all optimizers\n",
    "for i in range(L):\n",
    "    THETAS = get_random_thetas(L * 2)\n",
    "\n",
    "CALCULATION_TIMES = {}\n",
    "backend = Aer.get_backend(\"qasm_simulator\")"
   ]
  },
  {
   "cell_type": "markdown",
   "metadata": {},
   "source": [
    "### Preparing the Circuit\n",
    "Adding functions to create unitary gates, calculate random theta angles for each layers and finally create and run the variational circuit.\n",
    "\n",
    "We use the statevetor simulator to compare with the initial random phi. And create the objective (cost) function to minimize using the norm between psi(theta) and phi."
   ]
  },
  {
   "cell_type": "code",
   "execution_count": 4,
   "metadata": {},
   "outputs": [],
   "source": [
    "# Unitary 4 Qubit gate with Rz's full entanglement\n",
    "def even_gate(theta, index, qubits):\n",
    "    name = \"Ue\"+str(index)+\"(\"+str(theta)+\")\"\n",
    "    u_even = QuantumCircuit(len(qubits), name=name)\n",
    "    \n",
    "    if(EVEN_GATES_ROTATION == \"RZ\"):\n",
    "        u_even.rz(theta,qubits)\n",
    "    elif(EVEN_GATES_ROTATION == \"RY\"):\n",
    "        u_even.ry(theta,qubits)\n",
    "    else:\n",
    "        u_even.rx(theta,qubits)\n",
    "\n",
    "    for t in qubits:\n",
    "        i = t\n",
    "        for z in range(len(qubits)-t-1):\n",
    "            if(EVEN_GATES_ENTANGLER == \"cz\"):\n",
    "                u_even.cz(t, i + 1)\n",
    "            elif(EVEN_GATES_ROTATION == \"cy\"):\n",
    "                u_even.cy(t, i + 1)\n",
    "            else:\n",
    "                u_even.cx(t, i + 1)\n",
    "            i += 1\n",
    "\n",
    "    return u_even\n",
    "\n",
    "# Unitary 4 Qubit gate with Rx's and no entanglement\n",
    "def odd_gate(theta, index, qubits):\n",
    "    name = \"Uo\"+str(index)+\"(\"+str(theta)+\")\"\n",
    "    u_odd = QuantumCircuit(len(qubits), name=name)\n",
    "    u_odd.rx(theta, qubits)\n",
    "\n",
    "    return u_odd"
   ]
  },
  {
   "cell_type": "code",
   "execution_count": 5,
   "metadata": {},
   "outputs": [],
   "source": [
    "def get_variational_circuit(thetas):\n",
    "    layers = CURRENT_LAYER\n",
    "    n_qubits = N_QUBITS\n",
    "    \n",
    "    qubits = [i for i in range(n_qubits)]\n",
    "    circuit = QuantumCircuit(n_qubits)\n",
    "    theta = 0\n",
    "    for i in range(layers):\n",
    "        circuit.append(even_gate(thetas[theta], i, qubits), qubits)\n",
    "        theta += 1\n",
    "        circuit.append(odd_gate(thetas[theta], i, qubits), qubits)\n",
    "        theta += 1\n",
    "        \n",
    "    return circuit\n",
    "\n",
    "def run_circuit(thetas):\n",
    "    layers = CURRENT_LAYER\n",
    "    n_qubits = N_QUBITS\n",
    "    circuit = get_variational_circuit(thetas)\n",
    "    \n",
    "    simulator = Aer.get_backend(\"statevector_simulator\")\n",
    "    job = execute(circuit, backend=simulator, shots=1024)\n",
    "    result = job.result()\n",
    "    \n",
    "    return result.get_statevector(circuit)\n",
    "\n",
    "def objective_function(thetas):\n",
    "    psi_theta = run_circuit(thetas)\n",
    "    cost = np.linalg.norm(psi_theta - PHI.data)\n",
    "    return cost"
   ]
  },
  {
   "cell_type": "code",
   "execution_count": 6,
   "metadata": {},
   "outputs": [
    {
     "data": {
      "text/html": [
       "<pre style=\"word-wrap: normal;white-space: pre;background: #fff0;line-height: 1.1;font-family: &quot;Courier New&quot;,Courier,monospace\">     ┌─────────────────────────┐┌──────────────────────────┐»\n",
       "q_0: ┤0                        ├┤0                         ├»\n",
       "     │                         ││                          │»\n",
       "q_1: ┤1                        ├┤1                         ├»\n",
       "     │  Ue0(2.966174849876233) ││  Uo0(2.9478445201576267) │»\n",
       "q_2: ┤2                        ├┤2                         ├»\n",
       "     │                         ││                          │»\n",
       "q_3: ┤3                        ├┤3                         ├»\n",
       "     └─────────────────────────┘└──────────────────────────┘»\n",
       "«     ┌──────────────────────────┐┌──────────────────────────┐\n",
       "«q_0: ┤0                         ├┤0                         ├\n",
       "«     │                          ││                          │\n",
       "«q_1: ┤1                         ├┤1                         ├\n",
       "«     │  Ue1(5.4362114617708395) ││  Uo1(1.7173791001122005) │\n",
       "«q_2: ┤2                         ├┤2                         ├\n",
       "«     │                          ││                          │\n",
       "«q_3: ┤3                         ├┤3                         ├\n",
       "«     └──────────────────────────┘└──────────────────────────┘</pre>"
      ],
      "text/plain": [
       "     ┌─────────────────────────┐┌──────────────────────────┐»\n",
       "q_0: ┤0                        ├┤0                         ├»\n",
       "     │                         ││                          │»\n",
       "q_1: ┤1                        ├┤1                         ├»\n",
       "     │  Ue0(2.966174849876233) ││  Uo0(2.9478445201576267) │»\n",
       "q_2: ┤2                        ├┤2                         ├»\n",
       "     │                         ││                          │»\n",
       "q_3: ┤3                        ├┤3                         ├»\n",
       "     └─────────────────────────┘└──────────────────────────┘»\n",
       "«     ┌──────────────────────────┐┌──────────────────────────┐\n",
       "«q_0: ┤0                         ├┤0                         ├\n",
       "«     │                          ││                          │\n",
       "«q_1: ┤1                         ├┤1                         ├\n",
       "«     │  Ue1(5.4362114617708395) ││  Uo1(1.7173791001122005) │\n",
       "«q_2: ┤2                         ├┤2                         ├\n",
       "«     │                          ││                          │\n",
       "«q_3: ┤3                         ├┤3                         ├\n",
       "«     └──────────────────────────┘└──────────────────────────┘"
      ]
     },
     "execution_count": 6,
     "metadata": {},
     "output_type": "execute_result"
    }
   ],
   "source": [
    "# Test the Circuit to make sure everything is ok, and thetas are properly applied\n",
    "CURRENT_LAYER = 2\n",
    "circuit = get_variational_circuit(THETAS)\n",
    "circuit.draw()"
   ]
  },
  {
   "cell_type": "markdown",
   "metadata": {},
   "source": [
    "### Getting results\n",
    "\n",
    "1. Random Thetas\n",
    "2. COBYLA\n",
    "3. SPSA\n",
    "4. AQGD\n",
    "\n",
    "Results are stored in a specific array so we can plot and copmare them later"
   ]
  },
  {
   "cell_type": "code",
   "execution_count": 7,
   "metadata": {},
   "outputs": [
    {
     "name": "stdout",
     "output_type": "stream",
     "text": [
      "Layers:  1 | Distance:  1.4259100727630272\n",
      "Layers:  2 | Distance:  1.474656065114341\n",
      "Layers:  3 | Distance:  1.430583007589242\n",
      "Layers:  4 | Distance:  1.47509601996118\n",
      "Layers:  5 | Distance:  1.4948484049273199\n"
     ]
    }
   ],
   "source": [
    "random_results = []\n",
    "start_time = time.time()\n",
    "\n",
    "for layers in list(range(1, L+1)):\n",
    "    CURRENT_LAYER = layers\n",
    "    optimization_results = []    \n",
    "    \n",
    "    for i in range(ITERATIONS):\n",
    "        psi_theta = run_circuit(THETAS)\n",
    "        optimization_results.append(np.linalg.norm(psi_theta - PHI.data))\n",
    "    \n",
    "    distance = min(optimization_results)\n",
    "\n",
    "    print(\"Layers: \",layers, \"| Distance: \",distance)\n",
    "    random_results.append(distance)\n",
    "\n",
    "end_time = time.time()\n",
    "CALCULATION_TIMES[\"random\"] = end_time - start_time"
   ]
  },
  {
   "cell_type": "code",
   "execution_count": 8,
   "metadata": {},
   "outputs": [
    {
     "name": "stdout",
     "output_type": "stream",
     "text": [
      "Layers:  1 | Distance:  1.3133019787043947\n",
      "Layers:  2 | Distance:  1.0237005091278624\n",
      "Layers:  3 | Distance:  1.19473172472138\n",
      "Layers:  4 | Distance:  1.316778847402561\n",
      "Layers:  5 | Distance:  1.2979846575441827\n"
     ]
    }
   ],
   "source": [
    "## Trial with COBYLA\n",
    "from qiskit.aqua.components.optimizers import COBYLA\n",
    "\n",
    "cobyla_results = []\n",
    "start_time = time.time()\n",
    "optimizer = COBYLA(maxiter=ITERATIONS, tol=0.0001, rhobeg=0.3)\n",
    "\n",
    "for layers in list(range(1, L+1)):\n",
    "    CURRENT_LAYER = layers\n",
    "    params = THETAS[:CURRENT_LAYER*2]\n",
    "    bounds = []\n",
    "    for t in params: bounds.append((0, 2*np.pi))\n",
    "\n",
    "    ret = optimizer.optimize(num_vars=layers*2, \n",
    "                             objective_function=objective_function, \n",
    "                             initial_point=params,\n",
    "                             variable_bounds=bounds)\n",
    "    psi_theta = run_circuit(ret[0])\n",
    "    print(\"Layers: \",layers,\"| Distance: \",ret[1])\n",
    "    cobyla_results.append(ret[1])\n",
    "    \n",
    "end_time = time.time()\n",
    "CALCULATION_TIMES[\"COBYLA\"] = end_time - start_time"
   ]
  },
  {
   "cell_type": "code",
   "execution_count": 9,
   "metadata": {},
   "outputs": [
    {
     "name": "stdout",
     "output_type": "stream",
     "text": [
      "Layers:  1 | Distance:  1.3995515027636063\n",
      "Layers:  2 | Distance:  1.418430207078662\n",
      "Layers:  3 | Distance:  1.0879636378756283\n",
      "Layers:  4 | Distance:  1.5489352511609806\n",
      "Layers:  5 | Distance:  1.4011744837557325\n"
     ]
    }
   ],
   "source": [
    "## Trial with SPSA\n",
    "from qiskit.aqua.components.optimizers import SPSA\n",
    "\n",
    "spsa_results = []\n",
    "start_time = time.time()\n",
    "optimizer = SPSA(maxiter=ITERATIONS, c0=0.03, c1=0.01)\n",
    "\n",
    "for layers in list(range(1, L+1)):\n",
    "    CURRENT_LAYER = layers\n",
    "    params = THETAS[:CURRENT_LAYER*2]\n",
    "    bounds = []\n",
    "    for t in params: bounds.append((0, 2*np.pi))\n",
    "        \n",
    "    ret = optimizer.optimize(num_vars=layers*2, \n",
    "                             objective_function=objective_function, \n",
    "                             initial_point=params,\n",
    "                             variable_bounds=bounds)\n",
    "    psi_theta = run_circuit(ret[0])\n",
    "    print(\"Layers: \",layers, \"| Distance: \",ret[1])\n",
    "    spsa_results.append(ret[1])\n",
    "    \n",
    "end_time = time.time()\n",
    "CALCULATION_TIMES[\"SPSA\"] = end_time - start_time"
   ]
  },
  {
   "cell_type": "code",
   "execution_count": 10,
   "metadata": {},
   "outputs": [
    {
     "name": "stdout",
     "output_type": "stream",
     "text": [
      "Layers:  1 | Distance:  1.382009419354304\n",
      "Layers:  2 | Distance:  1.3810987706876596\n",
      "Layers:  3 | Distance:  1.430583007589242\n",
      "Layers:  4 | Distance:  1.4736035868181514\n",
      "Layers:  5 | Distance:  1.2164594330494476\n"
     ]
    }
   ],
   "source": [
    "## Trial with AQGD\n",
    "from qiskit.aqua.components.optimizers import AQGD\n",
    "\n",
    "aqgd_results = []\n",
    "start_time = time.time()\n",
    "optimizer = AQGD(maxiter=ITERATIONS, tol=0.0001, eta=0.9, momentum=0.9)\n",
    "\n",
    "for layers in list(range(1, L+1)):\n",
    "    CURRENT_LAYER = layers\n",
    "    params = THETAS[:CURRENT_LAYER*2]\n",
    "    bounds = []\n",
    "    for t in params: bounds.append((0, 2*np.pi))\n",
    "        \n",
    "    ret = optimizer.optimize(num_vars=layers*2, \n",
    "                             objective_function=objective_function, \n",
    "                             initial_point=params,\n",
    "                             variable_bounds=bounds)\n",
    "    psi_theta = run_circuit(ret[0])\n",
    "    print(\"Layers: \",layers, \"| Distance: \",ret[1])\n",
    "    aqgd_results.append(ret[1])\n",
    "    \n",
    "end_time = time.time()\n",
    "CALCULATION_TIMES[\"AQGD\"] = end_time - start_time"
   ]
  },
  {
   "cell_type": "code",
   "execution_count": 11,
   "metadata": {},
   "outputs": [
    {
     "data": {
      "image/png": "[encoded data removed]",
      "text/plain": [
       "<Figure size 432x288 with 1 Axes>"
      ]
     },
     "metadata": {
      "needs_background": "light"
     },
     "output_type": "display_data"
    }
   ],
   "source": [
    "# Evaluating all optimizers\n",
    "\n",
    "x_axis = list(range(1, L+1))\n",
    "plt.xticks(x_axis)\n",
    "plt.plot(x_axis, cobyla_results, label=\"COBYLA\")\n",
    "plt.plot(x_axis, spsa_results, label=\"SPSA\")\n",
    "plt.plot(x_axis, aqgd_results, label=\"AQGD\")\n",
    "plt.plot(x_axis, random_results, label=\"Random Thetas\")\n",
    "plt.title('Optimizer comparison for VQE. - '+ str(ITERATIONS) +\" iterations\")\n",
    "plt.legend()\n",
    "plt.xlabel('Layers')\n",
    "plt.ylabel('Distance')\n",
    "plt.savefig('Optimizer_Benchmark_'+ str(time.time()) + '_Iterations_'+str(ITERATIONS)+'_Odd'+ODD_GATES_ROTATION+'_Even'+EVEN_GATES_ROTATION+EVEN_GATES_ENTANGLER+'.png')\n"
   ]
  },
  {
   "cell_type": "code",
   "execution_count": 12,
   "metadata": {},
   "outputs": [
    {
     "name": "stdout",
     "output_type": "stream",
     "text": [
      "{'random': 1.956223964691162, 'COBYLA': 1.8131237030029297, 'SPSA': 4.420447111129761, 'AQGD': 28.577558994293213}\n"
     ]
    }
   ],
   "source": [
    "print(CALCULATION_TIMES)"
   ]
  },
  {
   "cell_type": "code",
   "execution_count": 13,
   "metadata": {},
   "outputs": [
    {
     "data": {
      "text/plain": [
       "<BarContainer object of 4 artists>"
      ]
     },
     "execution_count": 13,
     "metadata": {},
     "output_type": "execute_result"
    },
    {
     "data": {
      "image/png": "[encoded data removed]",
      "text/plain": [
       "<Figure size 432x288 with 1 Axes>"
      ]
     },
     "metadata": {
      "needs_background": "light"
     },
     "output_type": "display_data"
    }
   ],
   "source": [
    "# Plot execution timmes performance\n",
    "keys = CALCULATION_TIMES.keys()\n",
    "values = CALCULATION_TIMES.values()\n",
    "\n",
    "plt.xlabel('Optimizer')\n",
    "plt.ylabel('Execution time (s)')\n",
    "plt.title('Execution time comparison - '+ str(ITERATIONS) +\" iterations\")\n",
    "plt.bar(keys, values)"
   ]
  },
  {
   "cell_type": "code",
   "execution_count": null,
   "metadata": {},
   "outputs": [],
   "source": []
  }
 ],
 "metadata": {
  "kernelspec": {
   "display_name": "Python 3",
   "language": "python",
   "name": "python3"
  },
  "language_info": {
   "codemirror_mode": {
    "name": "ipython",
    "version": 3
   },
   "file_extension": ".py",
   "mimetype": "text/x-python",
   "name": "python",
   "nbconvert_exporter": "python",
   "pygments_lexer": "ipython3",
   "version": "3.7.6"
  }
 },
 "nbformat": 4,
 "nbformat_minor": 4
}
