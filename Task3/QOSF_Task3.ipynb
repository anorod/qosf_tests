{
 "cells": [
  {
   "cell_type": "markdown",
   "metadata": {},
   "source": [
    "# QOSF - Task 3\n",
    "\n",
    "By **Antonio Nó Rodríguez**\n",
    "\n",
    "Please write a simple compiler – program, which translates one quantum circuit into another, using a restricted set of gates.\n",
    "You need to consider just the basic gates for the input circuit, such as * (I, H, X, Y, Z, RX, RY, RZ, CNOT, CZ) *.\n",
    "The output circuit should consist only from the following gates: * RX, RZ, CZ *. In other words, each gate in the original circuit must be replaced by an equivalent combination of gates coming from the restricted set (RX, RZ, CZ) only.\n",
    "\n",
    "For example, a Hadamard gate after compilation looks like this:\n",
    "* RX$(\\frac{\\pi}{2})$\n",
    "* RZ$(\\frac{\\pi}{2})$\n",
    "\n",
    "Analyze what’s the overhead of the compiled program compared to the original one and propose how to improve it. What we mean by overhead is the following: by replacing all the initial gates with the restricted set of gates given in the problem, you will see that the resulting circuit is much more involved than the original one. This is what we called the overhead, and you may think how to treat this problem, i.e. you could try to simplify as much as possible the resulting circuit."
   ]
  },
  {
   "cell_type": "markdown",
   "metadata": {},
   "source": [
    "## My approach\n",
    "\n",
    "I created a function for each gate same as the ones that already exists like QuantumCircuit.h(0). The names are:\n",
    "* `QuantumCircuit.qi(qubit)`\n",
    "* `QuantumCircuit.qh(qubit)`\n",
    "* `QuantumCircuit.qx(qubit)`\n",
    "* `QuantumCircuit.qy(qubit)`\n",
    "* `QuantumCircuit.qz(qubit)`\n",
    "* `QuantumCircuit.qrx(qubit)`\n",
    "* `QuantumCircuit.qry(qubit)`\n",
    "* `QuantumCircuit.qrz(qubit)`\n",
    "* `QuantumCircuit.qcz(qubit)`\n",
    "* `QuantumCircuit.qcnot(qubit)`\n",
    "* `QuantumCircuit.qcx(qubit)`\n",
    "\n",
    "You can call the function as above so it will create a block that integrates the RX, RZ and CZ gates or you can call it with the parameter `RGates=True` so it will show the R Gates applied in the circuit.\n",
    "\n",
    "To use it, you have to include:\n",
    "* `from QOSF_FunctionsT3 import QIGate`\n",
    "* `from QOSF_FunctionsT3 import QHGate`\n",
    "* `from QOSF_FunctionsT3 import QXGate`\n",
    "* `from QOSF_FunctionsT3 import QYGate`\n",
    "* `from QOSF_FunctionsT3 import QZGate`\n",
    "* `from QOSF_FunctionsT3 import QRXGate`\n",
    "* `from QOSF_FunctionsT3 import QRYGate`\n",
    "* `from QOSF_FunctionsT3 import QRZGate`\n",
    "* `from QOSF_FunctionsT3 import QCZGate`\n",
    "* `from QOSF_FunctionsT3 import QCNOTGate`"
   ]
  },
  {
   "cell_type": "markdown",
   "metadata": {},
   "source": [
    "### Example of circuits created in both ways\n",
    "\n",
    "We set up the environment"
   ]
  },
  {
   "cell_type": "code",
   "execution_count": 1,
   "metadata": {},
   "outputs": [],
   "source": [
    "from QOSF_FunctionsT3 import QHGate\n",
    "from QOSF_FunctionsT3 import QXGate\n",
    "from qiskit import QuantumCircuit"
   ]
  },
  {
   "cell_type": "markdown",
   "metadata": {},
   "source": [
    "Then we create one circuit with a QH and QX Gates"
   ]
  },
  {
   "cell_type": "code",
   "execution_count": 2,
   "metadata": {},
   "outputs": [
    {
     "data": {
      "text/html": [
       "<pre style=\"word-wrap: normal;white-space: pre;background: #fff0;line-height: 1.1;font-family: &quot;Courier New&quot;,Courier,monospace\">     ┌────┐┌────┐\n",
       "q_0: ┤ QX ├┤ QH ├\n",
       "     └────┘└────┘</pre>"
      ],
      "text/plain": [
       "     ┌────┐┌────┐\n",
       "q_0: ┤ QX ├┤ QH ├\n",
       "     └────┘└────┘"
      ]
     },
     "execution_count": 2,
     "metadata": {},
     "output_type": "execute_result"
    }
   ],
   "source": [
    "ex1 = QuantumCircuit(1)\n",
    "ex1.qx(0)\n",
    "ex1.qh(0)\n",
    "ex1.draw()"
   ]
  },
  {
   "cell_type": "markdown",
   "metadata": {},
   "source": [
    "Now we create another circuit showing the gates"
   ]
  },
  {
   "cell_type": "code",
   "execution_count": 3,
   "metadata": {},
   "outputs": [
    {
     "data": {
      "text/html": [
       "<pre style=\"word-wrap: normal;white-space: pre;background: #fff0;line-height: 1.1;font-family: &quot;Courier New&quot;,Courier,monospace\">     ┌─────────┐┌────────┐┌────────┐┌───────────┐┌───────────┐┌───────────┐\n",
       "q_0: ┤ RZ(-pi) ├┤ RX(pi) ├┤ RZ(pi) ├┤ RX(-pi/2) ├┤ RZ(-pi/2) ├┤ RX(-pi/2) ├\n",
       "     └─────────┘└────────┘└────────┘└───────────┘└───────────┘└───────────┘</pre>"
      ],
      "text/plain": [
       "     ┌─────────┐┌────────┐┌────────┐┌───────────┐┌───────────┐┌───────────┐\n",
       "q_0: ┤ RZ(-pi) ├┤ RX(pi) ├┤ RZ(pi) ├┤ RX(-pi/2) ├┤ RZ(-pi/2) ├┤ RX(-pi/2) ├\n",
       "     └─────────┘└────────┘└────────┘└───────────┘└───────────┘└───────────┘"
      ]
     },
     "execution_count": 3,
     "metadata": {},
     "output_type": "execute_result"
    }
   ],
   "source": [
    "ex2 = QuantumCircuit(1)\n",
    "ex2.qx(0, RGates=True)\n",
    "ex2.qh(0, RGates=True)\n",
    "ex2.draw()"
   ]
  },
  {
   "cell_type": "markdown",
   "metadata": {},
   "source": [
    "## Example using Grover's algorithm\n",
    "\n",
    "To analize the overhead we are going to implement the circuit described in the second example of the Qiskit textbook https://qiskit.org/textbook/ch-algorithms/grover.html with regular gates and our restricted gates."
   ]
  },
  {
   "cell_type": "markdown",
   "metadata": {},
   "source": [
    "### Circuit using regular gates\n",
    "\n",
    "Following the Example 2:"
   ]
  },
  {
   "cell_type": "code",
   "execution_count": 4,
   "metadata": {},
   "outputs": [],
   "source": [
    "import matplotlib.pyplot as plt\n",
    "import numpy as np\n",
    "\n",
    "# importing Qiskit\n",
    "from qiskit import IBMQ, Aer, QuantumCircuit, ClassicalRegister, QuantumRegister, execute\n",
    "from qiskit.providers.ibmq import least_busy\n",
    "from qiskit.quantum_info import Statevector\n",
    "\n",
    "# import basic plot tools\n",
    "from qiskit.visualization import plot_histogram"
   ]
  },
  {
   "cell_type": "code",
   "execution_count": 5,
   "metadata": {},
   "outputs": [],
   "source": [
    "n = 2\n",
    "grover_regular_gates = QuantumCircuit(n)"
   ]
  },
  {
   "cell_type": "code",
   "execution_count": 6,
   "metadata": {},
   "outputs": [],
   "source": [
    "def initialize_s_regular_gates(qc, qubits):\n",
    "    \"\"\"Apply a H-gate to 'qubits' in qc\"\"\"\n",
    "    for q in qubits:\n",
    "        qc.h(q)\n",
    "    return qc"
   ]
  },
  {
   "cell_type": "code",
   "execution_count": 7,
   "metadata": {},
   "outputs": [
    {
     "data": {
      "text/html": [
       "<pre style=\"word-wrap: normal;white-space: pre;background: #fff0;line-height: 1.1;font-family: &quot;Courier New&quot;,Courier,monospace\">     ┌───┐\n",
       "q_0: ┤ H ├\n",
       "     ├───┤\n",
       "q_1: ┤ H ├\n",
       "     └───┘</pre>"
      ],
      "text/plain": [
       "     ┌───┐\n",
       "q_0: ┤ H ├\n",
       "     ├───┤\n",
       "q_1: ┤ H ├\n",
       "     └───┘"
      ]
     },
     "execution_count": 7,
     "metadata": {},
     "output_type": "execute_result"
    }
   ],
   "source": [
    "grover_regular_gates = initialize_s_regular_gates(grover_regular_gates, [0,1])\n",
    "grover_regular_gates.draw()"
   ]
  },
  {
   "cell_type": "code",
   "execution_count": 8,
   "metadata": {},
   "outputs": [
    {
     "data": {
      "text/html": [
       "<pre style=\"word-wrap: normal;white-space: pre;background: #fff0;line-height: 1.1;font-family: &quot;Courier New&quot;,Courier,monospace\">     ┌───┐   \n",
       "q_0: ┤ H ├─■─\n",
       "     ├───┤ │ \n",
       "q_1: ┤ H ├─■─\n",
       "     └───┘   </pre>"
      ],
      "text/plain": [
       "     ┌───┐   \n",
       "q_0: ┤ H ├─■─\n",
       "     ├───┤ │ \n",
       "q_1: ┤ H ├─■─\n",
       "     └───┘   "
      ]
     },
     "execution_count": 8,
     "metadata": {},
     "output_type": "execute_result"
    }
   ],
   "source": [
    "grover_regular_gates.cz(0,1) # Oracle\n",
    "grover_regular_gates.draw()"
   ]
  },
  {
   "cell_type": "code",
   "execution_count": 9,
   "metadata": {},
   "outputs": [
    {
     "data": {
      "text/html": [
       "<pre style=\"word-wrap: normal;white-space: pre;background: #fff0;line-height: 1.1;font-family: &quot;Courier New&quot;,Courier,monospace\">     ┌───┐   ┌───┐┌───┐   ┌───┐\n",
       "q_0: ┤ H ├─■─┤ H ├┤ Z ├─■─┤ H ├\n",
       "     ├───┤ │ ├───┤├───┤ │ ├───┤\n",
       "q_1: ┤ H ├─■─┤ H ├┤ Z ├─■─┤ H ├\n",
       "     └───┘   └───┘└───┘   └───┘</pre>"
      ],
      "text/plain": [
       "     ┌───┐   ┌───┐┌───┐   ┌───┐\n",
       "q_0: ┤ H ├─■─┤ H ├┤ Z ├─■─┤ H ├\n",
       "     ├───┤ │ ├───┤├───┤ │ ├───┤\n",
       "q_1: ┤ H ├─■─┤ H ├┤ Z ├─■─┤ H ├\n",
       "     └───┘   └───┘└───┘   └───┘"
      ]
     },
     "execution_count": 9,
     "metadata": {},
     "output_type": "execute_result"
    }
   ],
   "source": [
    "# Diffusion operator (U_s)\n",
    "grover_regular_gates.h([0,1])\n",
    "grover_regular_gates.z([0,1])\n",
    "grover_regular_gates.cz(0,1)\n",
    "grover_regular_gates.h([0,1])\n",
    "grover_regular_gates.draw()"
   ]
  },
  {
   "cell_type": "markdown",
   "metadata": {},
   "source": [
    "That is our finished circuit with regular gates.\n",
    "\n",
    "Now we are going to do the same experiments with simulators and real devices to see the diferences between regular and restricted gates."
   ]
  },
  {
   "cell_type": "code",
   "execution_count": 10,
   "metadata": {},
   "outputs": [
    {
     "name": "stdout",
     "output_type": "stream",
     "text": [
      "[1.96261557e-16-2.46519033e-32j 2.22044605e-16+1.22464680e-16j\n",
      " 1.96261557e-16+1.22464680e-16j 1.00000000e+00-2.44929360e-16j]\n"
     ]
    }
   ],
   "source": [
    "sv_sim_regular_gates = Aer.get_backend('statevector_simulator')\n",
    "job_sim_regular_gates = execute(grover_regular_gates, sv_sim_regular_gates)\n",
    "statevec_regular_gates = job_sim_regular_gates.result().get_statevector()\n",
    "print(statevec_regular_gates)"
   ]
  },
  {
   "cell_type": "markdown",
   "metadata": {},
   "source": [
    "That statevector is the same as shown in the example."
   ]
  },
  {
   "cell_type": "code",
   "execution_count": 11,
   "metadata": {},
   "outputs": [
    {
     "data": {
      "image/png": "[encoded data removed]",
      "text/plain": [
       "<Figure size 504x360 with 1 Axes>"
      ]
     },
     "execution_count": 11,
     "metadata": {},
     "output_type": "execute_result"
    }
   ],
   "source": [
    "grover_regular_gates.measure_all()\n",
    "\n",
    "qasm_simulator = Aer.get_backend('qasm_simulator')\n",
    "shots = 1024\n",
    "results = execute(grover_regular_gates, backend=qasm_simulator, shots=shots).result()\n",
    "answer = results.get_counts()\n",
    "plot_histogram(answer)"
   ]
  },
  {
   "cell_type": "markdown",
   "metadata": {},
   "source": [
    "Now we run it in a real device as the example"
   ]
  },
  {
   "cell_type": "code",
   "execution_count": 12,
   "metadata": {},
   "outputs": [
    {
     "name": "stdout",
     "output_type": "stream",
     "text": [
      "Running on current least busy device:  ibmqx2\n"
     ]
    }
   ],
   "source": [
    "# Load IBM Q account and get the least busy backend device\n",
    "provider = IBMQ.load_account()\n",
    "device = least_busy(provider.backends(filters=lambda x: x.configuration().n_qubits >= 3 and \n",
    "                                   not x.configuration().simulator and x.status().operational==True))\n",
    "print(\"Running on current least busy device: \", device)"
   ]
  },
  {
   "cell_type": "code",
   "execution_count": 14,
   "metadata": {},
   "outputs": [
    {
     "name": "stdout",
     "output_type": "stream",
     "text": [
      "Job Status: job has successfully run\n"
     ]
    }
   ],
   "source": [
    "# Run our circuit on the least busy backend. Monitor the execution of the job in the queue\n",
    "from qiskit.tools.monitor import job_monitor\n",
    "job_regular_gates = execute(grover_regular_gates, backend=device, shots=1024, optimization_level=3)\n",
    "job_monitor(job_regular_gates, interval = 2)"
   ]
  },
  {
   "cell_type": "code",
   "execution_count": 15,
   "metadata": {},
   "outputs": [
    {
     "data": {
      "image/png": "[encoded data removed]",
      "text/plain": [
       "<Figure size 504x360 with 1 Axes>"
      ]
     },
     "execution_count": 15,
     "metadata": {},
     "output_type": "execute_result"
    }
   ],
   "source": [
    "# Get the results from the computation\n",
    "results_regular_gates = job_regular_gates.result()\n",
    "answer_regular_gates = results_regular_gates.get_counts(grover_regular_gates)\n",
    "plot_histogram(answer_regular_gates)"
   ]
  },
  {
   "cell_type": "markdown",
   "metadata": {},
   "source": [
    "We confirm that the majority of the cases the state |11> is measured with probability higher than 0.65"
   ]
  },
  {
   "cell_type": "markdown",
   "metadata": {},
   "source": [
    "### Circuit using custom gates\n",
    "\n",
    "Now we will do the same example using our custom gates. In this case we will do it without the RGates so we can compare the circuits diagrams."
   ]
  },
  {
   "cell_type": "code",
   "execution_count": 16,
   "metadata": {},
   "outputs": [],
   "source": [
    "#initialization\n",
    "import matplotlib.pyplot as plt\n",
    "import numpy as np\n",
    "\n",
    "# importing Qiskit\n",
    "from qiskit import IBMQ, Aer, QuantumCircuit, ClassicalRegister, QuantumRegister, execute\n",
    "from qiskit.providers.ibmq import least_busy\n",
    "from qiskit.quantum_info import Statevector\n",
    "\n",
    "# import basic plot tools\n",
    "from qiskit.visualization import plot_histogram\n",
    "\n",
    "# import our gates qh, qz and qcz\n",
    "from QOSF_FunctionsT3 import QHGate\n",
    "from QOSF_FunctionsT3 import QZGate\n",
    "from QOSF_FunctionsT3 import QCZGate"
   ]
  },
  {
   "cell_type": "code",
   "execution_count": 17,
   "metadata": {},
   "outputs": [],
   "source": [
    "n = 2\n",
    "grover_circuit_custom_simple = QuantumCircuit(n)"
   ]
  },
  {
   "cell_type": "code",
   "execution_count": 18,
   "metadata": {},
   "outputs": [],
   "source": [
    "def initialize_s_custom_simple(qc, qubits):\n",
    "    \"\"\"Apply a H-gate to 'qubits' in qc\"\"\"\n",
    "    for q in qubits:\n",
    "        qc.qh(q)\n",
    "    return qc"
   ]
  },
  {
   "cell_type": "code",
   "execution_count": 19,
   "metadata": {},
   "outputs": [
    {
     "data": {
      "text/html": [
       "<pre style=\"word-wrap: normal;white-space: pre;background: #fff0;line-height: 1.1;font-family: &quot;Courier New&quot;,Courier,monospace\">     ┌────┐\n",
       "q_0: ┤ QH ├\n",
       "     ├────┤\n",
       "q_1: ┤ QH ├\n",
       "     └────┘</pre>"
      ],
      "text/plain": [
       "     ┌────┐\n",
       "q_0: ┤ QH ├\n",
       "     ├────┤\n",
       "q_1: ┤ QH ├\n",
       "     └────┘"
      ]
     },
     "execution_count": 19,
     "metadata": {},
     "output_type": "execute_result"
    }
   ],
   "source": [
    "grover_circuit_custom_simple = initialize_s_custom_simple(grover_circuit_custom_simple, [0,1])\n",
    "grover_circuit_custom_simple.draw()"
   ]
  },
  {
   "cell_type": "code",
   "execution_count": 20,
   "metadata": {},
   "outputs": [
    {
     "data": {
      "text/html": [
       "<pre style=\"word-wrap: normal;white-space: pre;background: #fff0;line-height: 1.1;font-family: &quot;Courier New&quot;,Courier,monospace\">     ┌────┐      \n",
       "q_0: ┤ QH ├──■───\n",
       "     ├────┤┌─┴──┐\n",
       "q_1: ┤ QH ├┤ QZ ├\n",
       "     └────┘└────┘</pre>"
      ],
      "text/plain": [
       "     ┌────┐      \n",
       "q_0: ┤ QH ├──■───\n",
       "     ├────┤┌─┴──┐\n",
       "q_1: ┤ QH ├┤ QZ ├\n",
       "     └────┘└────┘"
      ]
     },
     "execution_count": 20,
     "metadata": {},
     "output_type": "execute_result"
    }
   ],
   "source": [
    "grover_circuit_custom_simple.qcz(0,1) # Oracle\n",
    "grover_circuit_custom_simple.draw()"
   ]
  },
  {
   "cell_type": "code",
   "execution_count": 21,
   "metadata": {},
   "outputs": [
    {
     "data": {
      "text/html": [
       "<pre style=\"word-wrap: normal;white-space: pre;background: #fff0;line-height: 1.1;font-family: &quot;Courier New&quot;,Courier,monospace\">     ┌────┐      ┌────┐┌────┐      ┌────┐\n",
       "q_0: ┤ QH ├──■───┤ QH ├┤ QZ ├──■───┤ QH ├\n",
       "     ├────┤┌─┴──┐├────┤├────┤┌─┴──┐├────┤\n",
       "q_1: ┤ QH ├┤ QZ ├┤ QH ├┤ QZ ├┤ QZ ├┤ QH ├\n",
       "     └────┘└────┘└────┘└────┘└────┘└────┘</pre>"
      ],
      "text/plain": [
       "     ┌────┐      ┌────┐┌────┐      ┌────┐\n",
       "q_0: ┤ QH ├──■───┤ QH ├┤ QZ ├──■───┤ QH ├\n",
       "     ├────┤┌─┴──┐├────┤├────┤┌─┴──┐├────┤\n",
       "q_1: ┤ QH ├┤ QZ ├┤ QH ├┤ QZ ├┤ QZ ├┤ QH ├\n",
       "     └────┘└────┘└────┘└────┘└────┘└────┘"
      ]
     },
     "execution_count": 21,
     "metadata": {},
     "output_type": "execute_result"
    }
   ],
   "source": [
    "# Diffusion operator (U_s)\n",
    "grover_circuit_custom_simple.qh([0,1])\n",
    "grover_circuit_custom_simple.qz([0,1])\n",
    "grover_circuit_custom_simple.qcz(0,1)\n",
    "grover_circuit_custom_simple.qh([0,1])\n",
    "grover_circuit_custom_simple.draw()"
   ]
  },
  {
   "cell_type": "markdown",
   "metadata": {},
   "source": [
    "We see the diagram is similar to the one with regular gates"
   ]
  },
  {
   "cell_type": "code",
   "execution_count": 22,
   "metadata": {},
   "outputs": [
    {
     "name": "stdout",
     "output_type": "stream",
     "text": [
      "[1.96261557e-16+7.39557099e-32j 2.22044605e-16-1.72254642e-16j\n",
      " 1.96261557e-16-1.72254642e-16j 1.00000000e+00+5.66553890e-16j]\n"
     ]
    }
   ],
   "source": [
    "sv_sim = Aer.get_backend('statevector_simulator')\n",
    "job_sim_custom_simple = execute(grover_circuit_custom_simple, sv_sim)\n",
    "statevec_custom_simple = job_sim_custom_simple.result().get_statevector()\n",
    "print(statevec_custom_simple)"
   ]
  },
  {
   "cell_type": "code",
   "execution_count": 23,
   "metadata": {},
   "outputs": [
    {
     "data": {
      "image/png": "[encoded data removed]",
      "text/plain": [
       "<Figure size 504x360 with 1 Axes>"
      ]
     },
     "execution_count": 23,
     "metadata": {},
     "output_type": "execute_result"
    }
   ],
   "source": [
    "grover_circuit_custom_simple.measure_all()\n",
    "\n",
    "qasm_simulator = Aer.get_backend('qasm_simulator')\n",
    "shots = 1024\n",
    "results_custom_simple = execute(grover_circuit_custom_simple, backend=qasm_simulator, shots=shots).result()\n",
    "answer_custom_simple = results_custom_simple.get_counts()\n",
    "plot_histogram(answer_custom_simple)"
   ]
  },
  {
   "cell_type": "markdown",
   "metadata": {},
   "source": [
    "Now we run it in a real device"
   ]
  },
  {
   "cell_type": "code",
   "execution_count": 24,
   "metadata": {},
   "outputs": [
    {
     "name": "stderr",
     "output_type": "stream",
     "text": [
      "ibmqfactory.load_account:WARNING:2020-09-15 01:18:50,393: Credentials are already in use. The existing account in the session will be replaced.\n"
     ]
    },
    {
     "name": "stdout",
     "output_type": "stream",
     "text": [
      "Running on current least busy device:  ibmqx2\n"
     ]
    }
   ],
   "source": [
    "# Load IBM Q account and get the least busy backend device\n",
    "provider = IBMQ.load_account()\n",
    "device = least_busy(provider.backends(filters=lambda x: x.configuration().n_qubits >= 3 and \n",
    "                                   not x.configuration().simulator and x.status().operational==True))\n",
    "print(\"Running on current least busy device: \", device)"
   ]
  },
  {
   "cell_type": "code",
   "execution_count": 25,
   "metadata": {},
   "outputs": [
    {
     "name": "stdout",
     "output_type": "stream",
     "text": [
      "Job Status: job has successfully run\n"
     ]
    }
   ],
   "source": [
    "# Run our circuit on the least busy backend. Monitor the execution of the job in the queue\n",
    "from qiskit.tools.monitor import job_monitor\n",
    "job_custom_simple = execute(grover_circuit_custom_simple, backend=device, shots=1024, optimization_level=3)\n",
    "job_monitor(job_custom_simple, interval = 2)"
   ]
  },
  {
   "cell_type": "code",
   "execution_count": 26,
   "metadata": {},
   "outputs": [
    {
     "data": {
      "image/png": "[encoded data removed]",
      "text/plain": [
       "<Figure size 504x360 with 1 Axes>"
      ]
     },
     "execution_count": 26,
     "metadata": {},
     "output_type": "execute_result"
    }
   ],
   "source": [
    "# Get the results from the computation\n",
    "results_custom_simple = job_custom_simple.result()\n",
    "answer_custom_simple = results_custom_simple.get_counts(grover_circuit_custom_simple)\n",
    "plot_histogram(answer_custom_simple)"
   ]
  },
  {
   "cell_type": "markdown",
   "metadata": {},
   "source": [
    "We see in this case the probability is still very high as before."
   ]
  },
  {
   "cell_type": "markdown",
   "metadata": {},
   "source": [
    "### Circuit using custom gates and extended display\n",
    "\n",
    "Now we are going to use the parameter `RGates=True` that shows the representation of all the gates involved. The result should be the same as before because the parameter only changes the representation."
   ]
  },
  {
   "cell_type": "code",
   "execution_count": 27,
   "metadata": {},
   "outputs": [],
   "source": [
    "#initialization\n",
    "import matplotlib.pyplot as plt\n",
    "import numpy as np\n",
    "\n",
    "# importing Qiskit\n",
    "from qiskit import IBMQ, Aer, QuantumCircuit, ClassicalRegister, QuantumRegister, execute\n",
    "from qiskit.providers.ibmq import least_busy\n",
    "from qiskit.quantum_info import Statevector\n",
    "\n",
    "# import basic plot tools\n",
    "from qiskit.visualization import plot_histogram\n",
    "\n",
    "# import our gates qh, qz and qcz\n",
    "from QOSF_FunctionsT3 import QHGate\n",
    "from QOSF_FunctionsT3 import QZGate\n",
    "from QOSF_FunctionsT3 import QCZGate"
   ]
  },
  {
   "cell_type": "code",
   "execution_count": 28,
   "metadata": {},
   "outputs": [],
   "source": [
    "n = 2\n",
    "grover_circuit_custom_full = QuantumCircuit(n)"
   ]
  },
  {
   "cell_type": "code",
   "execution_count": 29,
   "metadata": {},
   "outputs": [],
   "source": [
    "def initialize_s_custom_full(qc, qubits):\n",
    "    \"\"\"Apply a H-gate to 'qubits' in qc\"\"\"\n",
    "    for q in qubits:\n",
    "        qc.qh(q, RGates=True)\n",
    "    return qc"
   ]
  },
  {
   "cell_type": "code",
   "execution_count": 30,
   "metadata": {},
   "outputs": [
    {
     "data": {
      "text/html": [
       "<pre style=\"word-wrap: normal;white-space: pre;background: #fff0;line-height: 1.1;font-family: &quot;Courier New&quot;,Courier,monospace\">     ┌───────────┐┌───────────┐┌───────────┐\n",
       "q_0: ┤ RX(-pi/2) ├┤ RZ(-pi/2) ├┤ RX(-pi/2) ├\n",
       "     ├───────────┤├───────────┤├───────────┤\n",
       "q_1: ┤ RX(-pi/2) ├┤ RZ(-pi/2) ├┤ RX(-pi/2) ├\n",
       "     └───────────┘└───────────┘└───────────┘</pre>"
      ],
      "text/plain": [
       "     ┌───────────┐┌───────────┐┌───────────┐\n",
       "q_0: ┤ RX(-pi/2) ├┤ RZ(-pi/2) ├┤ RX(-pi/2) ├\n",
       "     ├───────────┤├───────────┤├───────────┤\n",
       "q_1: ┤ RX(-pi/2) ├┤ RZ(-pi/2) ├┤ RX(-pi/2) ├\n",
       "     └───────────┘└───────────┘└───────────┘"
      ]
     },
     "execution_count": 30,
     "metadata": {},
     "output_type": "execute_result"
    }
   ],
   "source": [
    "grover_circuit_custom_full = initialize_s_custom_full(grover_circuit_custom_full, [0,1])\n",
    "grover_circuit_custom_full.draw()"
   ]
  },
  {
   "cell_type": "code",
   "execution_count": 31,
   "metadata": {},
   "outputs": [
    {
     "data": {
      "text/html": [
       "<pre style=\"word-wrap: normal;white-space: pre;background: #fff0;line-height: 1.1;font-family: &quot;Courier New&quot;,Courier,monospace\">     ┌───────────┐┌───────────┐┌───────────┐   \n",
       "q_0: ┤ RX(-pi/2) ├┤ RZ(-pi/2) ├┤ RX(-pi/2) ├─■─\n",
       "     ├───────────┤├───────────┤├───────────┤ │ \n",
       "q_1: ┤ RX(-pi/2) ├┤ RZ(-pi/2) ├┤ RX(-pi/2) ├─■─\n",
       "     └───────────┘└───────────┘└───────────┘   </pre>"
      ],
      "text/plain": [
       "     ┌───────────┐┌───────────┐┌───────────┐   \n",
       "q_0: ┤ RX(-pi/2) ├┤ RZ(-pi/2) ├┤ RX(-pi/2) ├─■─\n",
       "     ├───────────┤├───────────┤├───────────┤ │ \n",
       "q_1: ┤ RX(-pi/2) ├┤ RZ(-pi/2) ├┤ RX(-pi/2) ├─■─\n",
       "     └───────────┘└───────────┘└───────────┘   "
      ]
     },
     "execution_count": 31,
     "metadata": {},
     "output_type": "execute_result"
    }
   ],
   "source": [
    "grover_circuit_custom_full.qcz(0,1, RGates=True) # Oracle\n",
    "grover_circuit_custom_full.draw()"
   ]
  },
  {
   "cell_type": "code",
   "execution_count": 32,
   "metadata": {},
   "outputs": [
    {
     "data": {
      "text/html": [
       "<pre style=\"word-wrap: normal;white-space: pre;background: #fff0;line-height: 1.1;font-family: &quot;Courier New&quot;,Courier,monospace\">     ┌───────────┐┌───────────┐┌───────────┐   ┌───────────┐┌───────────┐»\n",
       "q_0: ┤ RX(-pi/2) ├┤ RZ(-pi/2) ├┤ RX(-pi/2) ├─■─┤ RX(-pi/2) ├┤ RZ(-pi/2) ├»\n",
       "     ├───────────┤├───────────┤├───────────┤ │ ├───────────┤├───────────┤»\n",
       "q_1: ┤ RX(-pi/2) ├┤ RZ(-pi/2) ├┤ RX(-pi/2) ├─■─┤ RX(-pi/2) ├┤ RZ(-pi/2) ├»\n",
       "     └───────────┘└───────────┘└───────────┘   └───────────┘└───────────┘»\n",
       "«     ┌───────────┐┌────────┐   ┌───────────┐┌───────────┐┌───────────┐\n",
       "«q_0: ┤ RX(-pi/2) ├┤ RZ(pi) ├─■─┤ RX(-pi/2) ├┤ RZ(-pi/2) ├┤ RX(-pi/2) ├\n",
       "«     ├───────────┤├────────┤ │ ├───────────┤├───────────┤├───────────┤\n",
       "«q_1: ┤ RX(-pi/2) ├┤ RZ(pi) ├─■─┤ RX(-pi/2) ├┤ RZ(-pi/2) ├┤ RX(-pi/2) ├\n",
       "«     └───────────┘└────────┘   └───────────┘└───────────┘└───────────┘</pre>"
      ],
      "text/plain": [
       "     ┌───────────┐┌───────────┐┌───────────┐   ┌───────────┐┌───────────┐»\n",
       "q_0: ┤ RX(-pi/2) ├┤ RZ(-pi/2) ├┤ RX(-pi/2) ├─■─┤ RX(-pi/2) ├┤ RZ(-pi/2) ├»\n",
       "     ├───────────┤├───────────┤├───────────┤ │ ├───────────┤├───────────┤»\n",
       "q_1: ┤ RX(-pi/2) ├┤ RZ(-pi/2) ├┤ RX(-pi/2) ├─■─┤ RX(-pi/2) ├┤ RZ(-pi/2) ├»\n",
       "     └───────────┘└───────────┘└───────────┘   └───────────┘└───────────┘»\n",
       "«     ┌───────────┐┌────────┐   ┌───────────┐┌───────────┐┌───────────┐\n",
       "«q_0: ┤ RX(-pi/2) ├┤ RZ(pi) ├─■─┤ RX(-pi/2) ├┤ RZ(-pi/2) ├┤ RX(-pi/2) ├\n",
       "«     ├───────────┤├────────┤ │ ├───────────┤├───────────┤├───────────┤\n",
       "«q_1: ┤ RX(-pi/2) ├┤ RZ(pi) ├─■─┤ RX(-pi/2) ├┤ RZ(-pi/2) ├┤ RX(-pi/2) ├\n",
       "«     └───────────┘└────────┘   └───────────┘└───────────┘└───────────┘"
      ]
     },
     "execution_count": 32,
     "metadata": {},
     "output_type": "execute_result"
    }
   ],
   "source": [
    "# Diffusion operator (U_s)\n",
    "grover_circuit_custom_full.qh([0,1], RGates=True)\n",
    "grover_circuit_custom_full.qz([0,1], RGates=True)\n",
    "grover_circuit_custom_full.qcz(0,1, RGates=True)\n",
    "grover_circuit_custom_full.qh([0,1], RGates=True)\n",
    "grover_circuit_custom_full.draw()"
   ]
  },
  {
   "cell_type": "code",
   "execution_count": 33,
   "metadata": {},
   "outputs": [
    {
     "name": "stdout",
     "output_type": "stream",
     "text": [
      "[1.96261557e-16+7.39557099e-32j 2.22044605e-16-1.72254642e-16j\n",
      " 1.96261557e-16-1.72254642e-16j 1.00000000e+00+5.66553890e-16j]\n"
     ]
    }
   ],
   "source": [
    "sv_sim = Aer.get_backend('statevector_simulator')\n",
    "job_sim_custom_full = execute(grover_circuit_custom_full, sv_sim)\n",
    "statevec_custom_full = job_sim_custom_full.result().get_statevector()\n",
    "print(statevec_custom_full)"
   ]
  },
  {
   "cell_type": "code",
   "execution_count": 34,
   "metadata": {},
   "outputs": [
    {
     "data": {
      "image/png": "[encoded data removed]",
      "text/plain": [
       "<Figure size 504x360 with 1 Axes>"
      ]
     },
     "execution_count": 34,
     "metadata": {},
     "output_type": "execute_result"
    }
   ],
   "source": [
    "grover_circuit_custom_full.measure_all()\n",
    "\n",
    "qasm_simulator = Aer.get_backend('qasm_simulator')\n",
    "shots = 1024\n",
    "results_custom_full = execute(grover_circuit_custom_full, backend=qasm_simulator, shots=shots).result()\n",
    "answer_custom_full = results_custom_full.get_counts()\n",
    "plot_histogram(answer_custom_full)"
   ]
  },
  {
   "cell_type": "markdown",
   "metadata": {},
   "source": [
    "And in a real device"
   ]
  },
  {
   "cell_type": "code",
   "execution_count": 35,
   "metadata": {},
   "outputs": [
    {
     "name": "stderr",
     "output_type": "stream",
     "text": [
      "ibmqfactory.load_account:WARNING:2020-09-15 01:21:53,698: Credentials are already in use. The existing account in the session will be replaced.\n"
     ]
    },
    {
     "name": "stdout",
     "output_type": "stream",
     "text": [
      "Running on current least busy device:  ibmq_valencia\n"
     ]
    }
   ],
   "source": [
    "# Load IBM Q account and get the least busy backend device\n",
    "provider = IBMQ.load_account()\n",
    "device = least_busy(provider.backends(filters=lambda x: x.configuration().n_qubits >= 3 and \n",
    "                                   not x.configuration().simulator and x.status().operational==True))\n",
    "print(\"Running on current least busy device: \", device)"
   ]
  },
  {
   "cell_type": "code",
   "execution_count": 36,
   "metadata": {},
   "outputs": [
    {
     "name": "stdout",
     "output_type": "stream",
     "text": [
      "Job Status: job has successfully run\n"
     ]
    }
   ],
   "source": [
    "# Run our circuit on the least busy backend. Monitor the execution of the job in the queue\n",
    "from qiskit.tools.monitor import job_monitor\n",
    "job_custom_full = execute(grover_circuit_custom_full, backend=device, shots=1024, optimization_level=3)\n",
    "job_monitor(job_custom_full, interval = 2)"
   ]
  },
  {
   "cell_type": "code",
   "execution_count": 37,
   "metadata": {},
   "outputs": [
    {
     "data": {
      "image/png": "[encoded data removed]",
      "text/plain": [
       "<Figure size 504x360 with 1 Axes>"
      ]
     },
     "execution_count": 37,
     "metadata": {},
     "output_type": "execute_result"
    }
   ],
   "source": [
    "# Get the results from the computation\n",
    "results_custom_full = job_custom_full.result()\n",
    "answer_custom_full = results_custom_full.get_counts(grover_circuit_custom_full)\n",
    "plot_histogram(answer_custom_full)"
   ]
  },
  {
   "cell_type": "markdown",
   "metadata": {},
   "source": [
    "## Conclusions\n",
    "\n",
    "We have recreated the gates asked in the task with just the gates Rx, Rz and Cz except the global phase factor $e^{(i\\alpha)}$ and we have seen we get similar results in the simulator and in real devices. About the overhead, we can see it clear when we compare the initial circuit to the one with `RGates=True`"
   ]
  },
  {
   "cell_type": "code",
   "execution_count": 38,
   "metadata": {},
   "outputs": [
    {
     "data": {
      "text/html": [
       "<pre style=\"word-wrap: normal;white-space: pre;background: #fff0;line-height: 1.1;font-family: &quot;Courier New&quot;,Courier,monospace\">        ┌───┐   ┌───┐┌───┐   ┌───┐ ░ ┌─┐   \n",
       "   q_0: ┤ H ├─■─┤ H ├┤ Z ├─■─┤ H ├─░─┤M├───\n",
       "        ├───┤ │ ├───┤├───┤ │ ├───┤ ░ └╥┘┌─┐\n",
       "   q_1: ┤ H ├─■─┤ H ├┤ Z ├─■─┤ H ├─░──╫─┤M├\n",
       "        └───┘   └───┘└───┘   └───┘ ░  ║ └╥┘\n",
       "meas_0: ══════════════════════════════╩══╬═\n",
       "                                         ║ \n",
       "meas_1: ═════════════════════════════════╩═\n",
       "                                           </pre>"
      ],
      "text/plain": [
       "        ┌───┐   ┌───┐┌───┐   ┌───┐ ░ ┌─┐   \n",
       "   q_0: ┤ H ├─■─┤ H ├┤ Z ├─■─┤ H ├─░─┤M├───\n",
       "        ├───┤ │ ├───┤├───┤ │ ├───┤ ░ └╥┘┌─┐\n",
       "   q_1: ┤ H ├─■─┤ H ├┤ Z ├─■─┤ H ├─░──╫─┤M├\n",
       "        └───┘   └───┘└───┘   └───┘ ░  ║ └╥┘\n",
       "meas_0: ══════════════════════════════╩══╬═\n",
       "                                         ║ \n",
       "meas_1: ═════════════════════════════════╩═\n",
       "                                           "
      ]
     },
     "execution_count": 38,
     "metadata": {},
     "output_type": "execute_result"
    }
   ],
   "source": [
    "grover_regular_gates.draw()"
   ]
  },
  {
   "cell_type": "code",
   "execution_count": 39,
   "metadata": {},
   "outputs": [
    {
     "data": {
      "text/html": [
       "<pre style=\"word-wrap: normal;white-space: pre;background: #fff0;line-height: 1.1;font-family: &quot;Courier New&quot;,Courier,monospace\">        ┌───────────┐┌───────────┐┌───────────┐   ┌───────────┐┌───────────┐»\n",
       "   q_0: ┤ RX(-pi/2) ├┤ RZ(-pi/2) ├┤ RX(-pi/2) ├─■─┤ RX(-pi/2) ├┤ RZ(-pi/2) ├»\n",
       "        ├───────────┤├───────────┤├───────────┤ │ ├───────────┤├───────────┤»\n",
       "   q_1: ┤ RX(-pi/2) ├┤ RZ(-pi/2) ├┤ RX(-pi/2) ├─■─┤ RX(-pi/2) ├┤ RZ(-pi/2) ├»\n",
       "        └───────────┘└───────────┘└───────────┘   └───────────┘└───────────┘»\n",
       "meas_0: ════════════════════════════════════════════════════════════════════»\n",
       "                                                                            »\n",
       "meas_1: ════════════════════════════════════════════════════════════════════»\n",
       "                                                                            »\n",
       "«        ┌───────────┐┌────────┐   ┌───────────┐┌───────────┐┌───────────┐ ░ »\n",
       "«   q_0: ┤ RX(-pi/2) ├┤ RZ(pi) ├─■─┤ RX(-pi/2) ├┤ RZ(-pi/2) ├┤ RX(-pi/2) ├─░─»\n",
       "«        ├───────────┤├────────┤ │ ├───────────┤├───────────┤├───────────┤ ░ »\n",
       "«   q_1: ┤ RX(-pi/2) ├┤ RZ(pi) ├─■─┤ RX(-pi/2) ├┤ RZ(-pi/2) ├┤ RX(-pi/2) ├─░─»\n",
       "«        └───────────┘└────────┘   └───────────┘└───────────┘└───────────┘ ░ »\n",
       "«meas_0: ════════════════════════════════════════════════════════════════════»\n",
       "«                                                                            »\n",
       "«meas_1: ════════════════════════════════════════════════════════════════════»\n",
       "«                                                                            »\n",
       "«        ┌─┐   \n",
       "«   q_0: ┤M├───\n",
       "«        └╥┘┌─┐\n",
       "«   q_1: ─╫─┤M├\n",
       "«         ║ └╥┘\n",
       "«meas_0: ═╩══╬═\n",
       "«            ║ \n",
       "«meas_1: ════╩═\n",
       "«              </pre>"
      ],
      "text/plain": [
       "        ┌───────────┐┌───────────┐┌───────────┐   ┌───────────┐┌───────────┐»\n",
       "   q_0: ┤ RX(-pi/2) ├┤ RZ(-pi/2) ├┤ RX(-pi/2) ├─■─┤ RX(-pi/2) ├┤ RZ(-pi/2) ├»\n",
       "        ├───────────┤├───────────┤├───────────┤ │ ├───────────┤├───────────┤»\n",
       "   q_1: ┤ RX(-pi/2) ├┤ RZ(-pi/2) ├┤ RX(-pi/2) ├─■─┤ RX(-pi/2) ├┤ RZ(-pi/2) ├»\n",
       "        └───────────┘└───────────┘└───────────┘   └───────────┘└───────────┘»\n",
       "meas_0: ════════════════════════════════════════════════════════════════════»\n",
       "                                                                            »\n",
       "meas_1: ════════════════════════════════════════════════════════════════════»\n",
       "                                                                            »\n",
       "«        ┌───────────┐┌────────┐   ┌───────────┐┌───────────┐┌───────────┐ ░ »\n",
       "«   q_0: ┤ RX(-pi/2) ├┤ RZ(pi) ├─■─┤ RX(-pi/2) ├┤ RZ(-pi/2) ├┤ RX(-pi/2) ├─░─»\n",
       "«        ├───────────┤├────────┤ │ ├───────────┤├───────────┤├───────────┤ ░ »\n",
       "«   q_1: ┤ RX(-pi/2) ├┤ RZ(pi) ├─■─┤ RX(-pi/2) ├┤ RZ(-pi/2) ├┤ RX(-pi/2) ├─░─»\n",
       "«        └───────────┘└────────┘   └───────────┘└───────────┘└───────────┘ ░ »\n",
       "«meas_0: ════════════════════════════════════════════════════════════════════»\n",
       "«                                                                            »\n",
       "«meas_1: ════════════════════════════════════════════════════════════════════»\n",
       "«                                                                            »\n",
       "«        ┌─┐   \n",
       "«   q_0: ┤M├───\n",
       "«        └╥┘┌─┐\n",
       "«   q_1: ─╫─┤M├\n",
       "«         ║ └╥┘\n",
       "«meas_0: ═╩══╬═\n",
       "«            ║ \n",
       "«meas_1: ════╩═\n",
       "«              "
      ]
     },
     "execution_count": 39,
     "metadata": {},
     "output_type": "execute_result"
    }
   ],
   "source": [
    "grover_circuit_custom_full.draw()"
   ]
  },
  {
   "cell_type": "markdown",
   "metadata": {},
   "source": [
    "As we can see both circuits it's clear the complexity of the last one that makes it very hard to interpret and analize while the first one is simple and shows Grover's algorithm at first sight."
   ]
  }
 ],
 "metadata": {
  "kernelspec": {
   "display_name": "Python 3",
   "language": "python",
   "name": "python3"
  },
  "language_info": {
   "codemirror_mode": {
    "name": "ipython",
    "version": 3
   },
   "file_extension": ".py",
   "mimetype": "text/x-python",
   "name": "python",
   "nbconvert_exporter": "python",
   "pygments_lexer": "ipython3",
   "version": "3.8.5"
  }
 },
 "nbformat": 4,
 "nbformat_minor": 4
}
