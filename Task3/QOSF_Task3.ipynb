{
 "cells": [
  {
   "cell_type": "markdown",
   "metadata": {},
   "source": [
    "# QOSF - Task 3\n",
    "\n",
    "By **Antonio Nó Rodríguez**\n",
    "\n",
    "Please write a simple compiler – program, which translates one quantum circuit into another, using a restricted set of gates.\n",
    "You need to consider just the basic gates for the input circuit, such as * (I, H, X, Y, Z, RX, RY, RZ, CNOT, CZ) *.\n",
    "The output circuit should consist only from the following gates: * RX, RZ, CZ *. In other words, each gate in the original circuit must be replaced by an equivalent combination of gates coming from the restricted set (RX, RZ, CZ) only.\n",
    "\n",
    "For example, a Hadamard gate after compilation looks like this:\n",
    "* RX($\\frac{pi}{2}$)\n",
    "* RZ($\\frac{pi}{2}$)\n",
    "\n",
    "Analyze what’s the overhead of the compiled program compared to the original one and propose how to improve it. What we mean by overhead is the following: by replacing all the initial gates with the restricted set of gates given in the problem, you will see that the resulting circuit is much more involved than the original one. This is what we called the overhead, and you may think how to treat this problem, i.e. you could try to simplify as much as possible the resulting circuit."
   ]
  },
  {
   "cell_type": "markdown",
   "metadata": {},
   "source": [
    "## My approach\n",
    "\n",
    "I created a function for each gate same as the ones that already exists like QuantumCircuit.h(0). The names are:\n",
    "* QuantumCircuit.qh(qubit)\n",
    "* QuantumCircuit.qx(qubit)\n",
    "* ....\n",
    "\n",
    "You can call the function as above so it will create a block that integrates the RX, RZ and CZ gates or you can call it with the parameter 'RGates=True' so it will show the R Gates applied in the circuit.\n",
    "\n",
    "To use it, you have to include:\n",
    "from QOSF_FunctionsT3 import QHGate\n",
    "from QOSF_FunctionsT3 import QXGate"
   ]
  },
  {
   "cell_type": "markdown",
   "metadata": {},
   "source": [
    "### Example of circuits created in both ways\n",
    "\n",
    "We set up the environment"
   ]
  },
  {
   "cell_type": "code",
   "execution_count": 1,
   "metadata": {},
   "outputs": [],
   "source": [
    "from QOSF_FunctionsT3 import QHGate\n",
    "from QOSF_FunctionsT3 import QXGate\n",
    "from qiskit import QuantumCircuit"
   ]
  },
  {
   "cell_type": "markdown",
   "metadata": {},
   "source": [
    "Then we create one circuit with a QH and QX Gates"
   ]
  },
  {
   "cell_type": "code",
   "execution_count": 2,
   "metadata": {},
   "outputs": [
    {
     "data": {
      "text/html": [
       "<pre style=\"word-wrap: normal;white-space: pre;background: #fff0;line-height: 1.1;font-family: &quot;Courier New&quot;,Courier,monospace\">     ┌────┐┌────┐\n",
       "q_0: ┤ QX ├┤ QH ├\n",
       "     └────┘└────┘</pre>"
      ],
      "text/plain": [
       "     ┌────┐┌────┐\n",
       "q_0: ┤ QX ├┤ QH ├\n",
       "     └────┘└────┘"
      ]
     },
     "execution_count": 2,
     "metadata": {},
     "output_type": "execute_result"
    }
   ],
   "source": [
    "ex1 = QuantumCircuit(1)\n",
    "ex1.qx(0)\n",
    "ex1.qh(0)\n",
    "ex1.draw()"
   ]
  },
  {
   "cell_type": "markdown",
   "metadata": {},
   "source": [
    "Now we create another circuit showing the gates"
   ]
  },
  {
   "cell_type": "code",
   "execution_count": 4,
   "metadata": {},
   "outputs": [
    {
     "data": {
      "text/html": [
       "<pre style=\"word-wrap: normal;white-space: pre;background: #fff0;line-height: 1.1;font-family: &quot;Courier New&quot;,Courier,monospace\">     ┌─────────┐┌────────┐┌────────┐┌──────────┐┌──────────┐\n",
       "q_0: ┤ RZ(-pi) ├┤ RX(pi) ├┤ RZ(pi) ├┤ RX(pi/2) ├┤ RZ(pi/2) ├\n",
       "     └─────────┘└────────┘└────────┘└──────────┘└──────────┘</pre>"
      ],
      "text/plain": [
       "     ┌─────────┐┌────────┐┌────────┐┌──────────┐┌──────────┐\n",
       "q_0: ┤ RZ(-pi) ├┤ RX(pi) ├┤ RZ(pi) ├┤ RX(pi/2) ├┤ RZ(pi/2) ├\n",
       "     └─────────┘└────────┘└────────┘└──────────┘└──────────┘"
      ]
     },
     "execution_count": 4,
     "metadata": {},
     "output_type": "execute_result"
    }
   ],
   "source": [
    "ex2 = QuantumCircuit(1)\n",
    "ex2.qx(0, RGates=True)\n",
    "ex2.qh(0, RGates=True)\n",
    "ex2.draw()"
   ]
  },
  {
   "cell_type": "code",
   "execution_count": null,
   "metadata": {},
   "outputs": [],
   "source": []
  }
 ],
 "metadata": {
  "kernelspec": {
   "display_name": "Python 3",
   "language": "python",
   "name": "python3"
  },
  "language_info": {
   "codemirror_mode": {
    "name": "ipython",
    "version": 3
   },
   "file_extension": ".py",
   "mimetype": "text/x-python",
   "name": "python",
   "nbconvert_exporter": "python",
   "pygments_lexer": "ipython3",
   "version": "3.8.5"
  }
 },
 "nbformat": 4,
 "nbformat_minor": 4
}
